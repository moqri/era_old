{
 "cells": [
  {
   "cell_type": "code",
   "execution_count": 1,
   "metadata": {},
   "outputs": [],
   "source": [
    "data='../data/'\n",
    "rep='ftp://ftp.ncbi.nlm.nih.gov/geo/series/GSE142nnn/age/matrix//GSE142439_series_matrix.txt.gz'\n",
    "epic_man='https://webdata.illumina.com/downloads/productfiles/methylationEPIC/infinium-methylationepic-v-1-0-b5-manifest-file-csv.zip'\n",
    "horvath='https://static-content.springer.com/esm/art%3A10.1186%2Fgb-2013-14-10-r115/MediaObjects/13059_2013_3156_MOESM3_ESM.csv'\n",
    "fib_age='https://static-content.springer.com/esm/art%3A10.1038%2Fs41467-020-15174-3/MediaObjects/41467_2020_15174_MOESM5_ESM.xlsx'\n",
    "fib_treat='https://static-content.springer.com/esm/art%3A10.1038%2Fs41467-020-15174-3/MediaObjects/41467_2020_15174_MOESM9_ESM.xlsx'\n",
    "import pandas as pd\n",
    "import matplotlib.pyplot as plt\n",
    "import seaborn as sns\n",
    "import numpy as np"
   ]
  },
  {
   "cell_type": "code",
   "execution_count": 2,
   "metadata": {},
   "outputs": [],
   "source": [
    "!wget -q -nc {rep} -O {data}\\rep.txt.gz\n",
    "!wget -q -nc {epic_man} -O {data}\\epic.csv.zip\n",
    "!wget -q -nc {horvath} -O {data}\\horvath.csv"
   ]
  },
  {
   "cell_type": "code",
   "execution_count": 3,
   "metadata": {},
   "outputs": [
    {
     "data": {
      "text/html": [
       "<div>\n",
       "<style scoped>\n",
       "    .dataframe tbody tr th:only-of-type {\n",
       "        vertical-align: middle;\n",
       "    }\n",
       "\n",
       "    .dataframe tbody tr th {\n",
       "        vertical-align: top;\n",
       "    }\n",
       "\n",
       "    .dataframe thead th {\n",
       "        text-align: right;\n",
       "    }\n",
       "</style>\n",
       "<table border=\"1\" class=\"dataframe\">\n",
       "  <thead>\n",
       "    <tr style=\"text-align: right;\">\n",
       "      <th></th>\n",
       "      <th>GSM4227385</th>\n",
       "      <th>GSM4227386</th>\n",
       "      <th>GSM4227387</th>\n",
       "      <th>GSM4227388</th>\n",
       "      <th>GSM4227389</th>\n",
       "      <th>GSM4227390</th>\n",
       "      <th>GSM4227391</th>\n",
       "      <th>GSM4227392</th>\n",
       "      <th>GSM4227393</th>\n",
       "      <th>GSM4227394</th>\n",
       "      <th>GSM4227395</th>\n",
       "      <th>GSM4227396</th>\n",
       "      <th>GSM4227397</th>\n",
       "      <th>GSM4227398</th>\n",
       "      <th>GSM4227399</th>\n",
       "      <th>GSM4227400</th>\n",
       "    </tr>\n",
       "  </thead>\n",
       "  <tbody>\n",
       "    <tr>\n",
       "      <th>age</th>\n",
       "      <td>61</td>\n",
       "      <td>61</td>\n",
       "      <td>61</td>\n",
       "      <td>61</td>\n",
       "      <td>69</td>\n",
       "      <td>69</td>\n",
       "      <td>67</td>\n",
       "      <td>67</td>\n",
       "      <td>48</td>\n",
       "      <td>48</td>\n",
       "      <td>47</td>\n",
       "      <td>47</td>\n",
       "      <td>49</td>\n",
       "      <td>49</td>\n",
       "      <td>49</td>\n",
       "      <td>49</td>\n",
       "    </tr>\n",
       "    <tr>\n",
       "      <th>cell</th>\n",
       "      <td>skin</td>\n",
       "      <td>skin</td>\n",
       "      <td>skin</td>\n",
       "      <td>skin</td>\n",
       "      <td>skin</td>\n",
       "      <td>skin</td>\n",
       "      <td>skin</td>\n",
       "      <td>skin</td>\n",
       "      <td>vein</td>\n",
       "      <td>vein</td>\n",
       "      <td>vein</td>\n",
       "      <td>vein</td>\n",
       "      <td>vein</td>\n",
       "      <td>vein</td>\n",
       "      <td>vein</td>\n",
       "      <td>vein</td>\n",
       "    </tr>\n",
       "    <tr>\n",
       "      <th>treatment</th>\n",
       "      <td>Normal</td>\n",
       "      <td>Treated</td>\n",
       "      <td>Normal</td>\n",
       "      <td>Treated</td>\n",
       "      <td>Normal</td>\n",
       "      <td>Treated</td>\n",
       "      <td>Normal</td>\n",
       "      <td>Treated</td>\n",
       "      <td>Normal</td>\n",
       "      <td>Treated</td>\n",
       "      <td>Normal</td>\n",
       "      <td>Treated</td>\n",
       "      <td>Normal</td>\n",
       "      <td>Treated</td>\n",
       "      <td>Normal</td>\n",
       "      <td>Treated</td>\n",
       "    </tr>\n",
       "    <tr>\n",
       "      <th>t</th>\n",
       "      <td>1</td>\n",
       "      <td>0</td>\n",
       "      <td>1</td>\n",
       "      <td>0</td>\n",
       "      <td>1</td>\n",
       "      <td>0</td>\n",
       "      <td>1</td>\n",
       "      <td>0</td>\n",
       "      <td>1</td>\n",
       "      <td>0</td>\n",
       "      <td>1</td>\n",
       "      <td>0</td>\n",
       "      <td>1</td>\n",
       "      <td>0</td>\n",
       "      <td>1</td>\n",
       "      <td>0</td>\n",
       "    </tr>\n",
       "  </tbody>\n",
       "</table>\n",
       "</div>"
      ],
      "text/plain": [
       "          GSM4227385 GSM4227386 GSM4227387 GSM4227388 GSM4227389 GSM4227390  \\\n",
       "age               61         61         61         61         69         69   \n",
       "cell            skin       skin       skin       skin       skin       skin   \n",
       "treatment     Normal    Treated     Normal    Treated     Normal    Treated   \n",
       "t                  1          0          1          0          1          0   \n",
       "\n",
       "          GSM4227391 GSM4227392 GSM4227393 GSM4227394 GSM4227395 GSM4227396  \\\n",
       "age               67         67         48         48         47         47   \n",
       "cell            skin       skin       vein       vein       vein       vein   \n",
       "treatment     Normal    Treated     Normal    Treated     Normal    Treated   \n",
       "t                  1          0          1          0          1          0   \n",
       "\n",
       "          GSM4227397 GSM4227398 GSM4227399 GSM4227400  \n",
       "age               49         49         49         49  \n",
       "cell            vein       vein       vein       vein  \n",
       "treatment     Normal    Treated     Normal    Treated  \n",
       "t                  1          0          1          0  "
      ]
     },
     "execution_count": 3,
     "metadata": {},
     "output_type": "execute_result"
    }
   ],
   "source": [
    "df=pd.read_csv(data+'rep.txt.gz',sep='\\t',skiprows=71,index_col=0) # methylation data starts from line 71\n",
    "df=df.drop('!series_matrix_table_end')\n",
    "meta=pd.read_csv(data+'rep.txt.gz',sep='\\t',skiprows=40,index_col=0,nrows=3) # meta data starts from line 40\n",
    "meta.columns=df.columns\n",
    "meta.index=['age','cell','treatment']\n",
    "meta=meta.T\n",
    "meta['age']=meta.age.str.strip('age: ')\n",
    "meta['cell']=meta.cell.str.strip('cell type: ')\n",
    "meta['treatment']=meta.treatment.str.strip('treatmentstatus: ')\n",
    "meta['t']=meta.treatment.apply(lambda x: 1 if x=='Normal' else 0)\n",
    "meta['cell']=meta.cell.apply(lambda x: 'skin' if x=='skin fibroblasts' else 'vein')\n",
    "meta.T"
   ]
  },
  {
   "cell_type": "code",
   "execution_count": 4,
   "metadata": {},
   "outputs": [],
   "source": [
    "df[meta[(meta.cell=='skin')].index].round(2).to_csv(data+'meth.csv')"
   ]
  },
  {
   "cell_type": "code",
   "execution_count": 5,
   "metadata": {},
   "outputs": [
    {
     "data": {
      "text/html": [
       "<div>\n",
       "<style scoped>\n",
       "    .dataframe tbody tr th:only-of-type {\n",
       "        vertical-align: middle;\n",
       "    }\n",
       "\n",
       "    .dataframe tbody tr th {\n",
       "        vertical-align: top;\n",
       "    }\n",
       "\n",
       "    .dataframe thead th {\n",
       "        text-align: right;\n",
       "    }\n",
       "</style>\n",
       "<table border=\"1\" class=\"dataframe\">\n",
       "  <thead>\n",
       "    <tr style=\"text-align: right;\">\n",
       "      <th></th>\n",
       "      <th>GSM4227385</th>\n",
       "      <th>GSM4227386</th>\n",
       "      <th>GSM4227387</th>\n",
       "      <th>GSM4227388</th>\n",
       "      <th>GSM4227389</th>\n",
       "      <th>GSM4227390</th>\n",
       "      <th>GSM4227391</th>\n",
       "      <th>GSM4227392</th>\n",
       "      <th>GSM4227393</th>\n",
       "      <th>GSM4227394</th>\n",
       "      <th>...</th>\n",
       "      <th>GSM4227397</th>\n",
       "      <th>GSM4227398</th>\n",
       "      <th>GSM4227399</th>\n",
       "      <th>GSM4227400</th>\n",
       "      <th>skin_normal</th>\n",
       "      <th>skin_treated</th>\n",
       "      <th>skin_dif</th>\n",
       "      <th>vein_normal</th>\n",
       "      <th>vein_treated</th>\n",
       "      <th>vein_dif</th>\n",
       "    </tr>\n",
       "    <tr>\n",
       "      <th>ID_REF</th>\n",
       "      <th></th>\n",
       "      <th></th>\n",
       "      <th></th>\n",
       "      <th></th>\n",
       "      <th></th>\n",
       "      <th></th>\n",
       "      <th></th>\n",
       "      <th></th>\n",
       "      <th></th>\n",
       "      <th></th>\n",
       "      <th></th>\n",
       "      <th></th>\n",
       "      <th></th>\n",
       "      <th></th>\n",
       "      <th></th>\n",
       "      <th></th>\n",
       "      <th></th>\n",
       "      <th></th>\n",
       "      <th></th>\n",
       "      <th></th>\n",
       "      <th></th>\n",
       "    </tr>\n",
       "  </thead>\n",
       "  <tbody>\n",
       "    <tr>\n",
       "      <th>cg00000029</th>\n",
       "      <td>0.192582</td>\n",
       "      <td>0.22964</td>\n",
       "      <td>0.084506</td>\n",
       "      <td>0.102028</td>\n",
       "      <td>0.202294</td>\n",
       "      <td>0.170894</td>\n",
       "      <td>0.185225</td>\n",
       "      <td>0.229188</td>\n",
       "      <td>0.19241</td>\n",
       "      <td>0.152512</td>\n",
       "      <td>...</td>\n",
       "      <td>0.358765</td>\n",
       "      <td>0.366739</td>\n",
       "      <td>0.446669</td>\n",
       "      <td>0.433033</td>\n",
       "      <td>0.166152</td>\n",
       "      <td>0.182937</td>\n",
       "      <td>0.016786</td>\n",
       "      <td>0.451154</td>\n",
       "      <td>0.454321</td>\n",
       "      <td>0.003167</td>\n",
       "    </tr>\n",
       "  </tbody>\n",
       "</table>\n",
       "<p>1 rows × 22 columns</p>\n",
       "</div>"
      ],
      "text/plain": [
       "            GSM4227385  GSM4227386  GSM4227387  GSM4227388  GSM4227389  \\\n",
       "ID_REF                                                                   \n",
       "cg00000029    0.192582     0.22964    0.084506    0.102028    0.202294   \n",
       "\n",
       "            GSM4227390  GSM4227391  GSM4227392  GSM4227393  GSM4227394  ...  \\\n",
       "ID_REF                                                                  ...   \n",
       "cg00000029    0.170894    0.185225    0.229188     0.19241    0.152512  ...   \n",
       "\n",
       "            GSM4227397  GSM4227398  GSM4227399  GSM4227400  skin_normal  \\\n",
       "ID_REF                                                                    \n",
       "cg00000029    0.358765    0.366739    0.446669    0.433033     0.166152   \n",
       "\n",
       "            skin_treated  skin_dif  vein_normal  vein_treated  vein_dif  \n",
       "ID_REF                                                                   \n",
       "cg00000029      0.182937  0.016786     0.451154      0.454321  0.003167  \n",
       "\n",
       "[1 rows x 22 columns]"
      ]
     },
     "execution_count": 5,
     "metadata": {},
     "output_type": "execute_result"
    }
   ],
   "source": [
    "for tissue in ['skin','vein']:\n",
    "    df[tissue+'_normal']=df[meta[(meta.cell==tissue)&(meta.treatment=='Normal')].index].mean(1)\n",
    "    df[tissue+'_treated']=df[meta[(meta.cell==tissue)&(meta.treatment=='Treated')].index].mean(1)\n",
    "    df[tissue+'_dif']=df[tissue+'_treated']-df[tissue+'_normal']\n",
    "df.head(1)"
   ]
  },
  {
   "cell_type": "code",
   "execution_count": 6,
   "metadata": {},
   "outputs": [
    {
     "data": {
      "text/plain": [
       "<AxesSubplot:>"
      ]
     },
     "execution_count": 6,
     "metadata": {},
     "output_type": "execute_result"
    },
    {
     "data": {
      "image/png": "[encoded data removed]",
      "text/plain": [
       "<Figure size 432x288 with 1 Axes>"
      ]
     },
     "metadata": {
      "needs_background": "light"
     },
     "output_type": "display_data"
    }
   ],
   "source": [
    "df.skin_dif.hist(bins=100)"
   ]
  },
  {
   "cell_type": "code",
   "execution_count": 7,
   "metadata": {},
   "outputs": [
    {
     "name": "stderr",
     "output_type": "stream",
     "text": [
      "/Users/mahdimoqri/miniconda3/lib/python3.7/site-packages/IPython/core/interactiveshell.py:3072: DtypeWarning: Columns (2,4,42,47) have mixed types.Specify dtype option on import or set low_memory=False.\n",
      "  interactivity=interactivity, compiler=compiler, result=result)\n"
     ]
    },
    {
     "data": {
      "text/plain": [
       "(846232, 53)"
      ]
     },
     "execution_count": 7,
     "metadata": {},
     "output_type": "execute_result"
    }
   ],
   "source": [
    "epic=pd.read_csv(data+'epic.csv.zip',skiprows=7,index_col=0) # data starts from line 7\n",
    "epic['Relation_to_UCSC_CpG_Island']=epic.Relation_to_UCSC_CpG_Island.fillna('Open Sea')\n",
    "epic['450k_Enhancer']=epic['450k_Enhancer'].fillna('False')\n",
    "epic=epic.replace({'Relation_to_UCSC_CpG_Island': {'N_Shore': 'Shore or Shelf', 'S_Shore': 'Shore or Shelf','N_Shelf':'Shore or Shelf',\n",
    "                                              'S_Shelf':'Shore or Shelf'}})\n",
    "epic['ch']=pd.to_numeric(epic.CHR,errors='coerce')\n",
    "epic = epic[epic['ch'].notna()]\n",
    "epic['g']=epic.ch*10**9+epic['MAPINFO']\n",
    "epic.shape"
   ]
  },
  {
   "cell_type": "code",
   "execution_count": 8,
   "metadata": {},
   "outputs": [
    {
     "data": {
      "text/plain": [
       "GSM4227385      0.875860\n",
       "GSM4227386      0.308651\n",
       "GSM4227387      0.868557\n",
       "GSM4227388      0.386535\n",
       "GSM4227389      0.867767\n",
       "GSM4227390      0.497191\n",
       "GSM4227391      0.868454\n",
       "GSM4227392      0.590537\n",
       "GSM4227393      0.043400\n",
       "GSM4227394      0.041691\n",
       "GSM4227395      0.057565\n",
       "GSM4227396      0.061014\n",
       "GSM4227397      0.131802\n",
       "GSM4227398      0.041154\n",
       "GSM4227399      0.065632\n",
       "GSM4227400      0.054510\n",
       "skin_normal     0.870159\n",
       "skin_treated    0.445728\n",
       "skin_dif       -0.424431\n",
       "vein_normal     0.074600\n",
       "vein_treated    0.049592\n",
       "vein_dif       -0.025007\n",
       "Name: cg00067177, dtype: float64"
      ]
     },
     "execution_count": 8,
     "metadata": {},
     "output_type": "execute_result"
    }
   ],
   "source": [
    "df.loc['cg00067177']"
   ]
  },
  {
   "cell_type": "markdown",
   "metadata": {},
   "source": [
    "epic.loc['cg02631092']"
   ]
  },
  {
   "cell_type": "code",
   "execution_count": 9,
   "metadata": {},
   "outputs": [],
   "source": [
    "df=df.merge(epic,left_index=True,right_index=True)"
   ]
  },
  {
   "cell_type": "code",
   "execution_count": 15,
   "metadata": {},
   "outputs": [
    {
     "data": {
      "text/plain": [
       "(7404, 75)"
      ]
     },
     "execution_count": 15,
     "metadata": {},
     "output_type": "execute_result"
    }
   ],
   "source": [
    "dg=df[np.abs(df.skin_dif)>.1]\n",
    "dg.shape"
   ]
  },
  {
   "cell_type": "code",
   "execution_count": 16,
   "metadata": {},
   "outputs": [],
   "source": [
    "dg[['CHR','MAPINFO','Start_hg38']].to_csv(data+'dmc.csv')"
   ]
  },
  {
   "cell_type": "code",
   "execution_count": 24,
   "metadata": {},
   "outputs": [
    {
     "data": {
      "text/plain": [
       "(array([0, 1, 2]),\n",
       " [Text(0, 0, 'Open Sea'), Text(1, 0, 'Island'), Text(2, 0, 'Shore or Shelf')])"
      ]
     },
     "execution_count": 24,
     "metadata": {},
     "output_type": "execute_result"
    },
    {
     "data": {
      "image/png": "[encoded data removed]",
      "text/plain": [
       "<Figure size 432x288 with 1 Axes>"
      ]
     },
     "metadata": {
      "needs_background": "light"
     },
     "output_type": "display_data"
    }
   ],
   "source": [
    "sns.stripplot(data=dg,x='Relation_to_UCSC_CpG_Island',y='skin_dif')\n",
    "plt.title('CpG distribution', fontsize=18)\n",
    "plt.xlabel('CpG location', fontsize=14)\n",
    "plt.ylabel('Treatment effect (treated - normal) ', fontsize=14)\n",
    "plt.xticks(fontsize= 12)"
   ]
  },
  {
   "cell_type": "code",
   "execution_count": 26,
   "metadata": {},
   "outputs": [
    {
     "data": {
      "text/plain": [
       "(array([0, 1, 2]),\n",
       " [Text(0, 0, 'Open Sea'), Text(1, 0, 'Shore or Shelf'), Text(2, 0, 'Island')])"
      ]
     },
     "execution_count": 26,
     "metadata": {},
     "output_type": "execute_result"
    },
    {
     "data": {
      "image/png": "[encoded data removed]",
      "text/plain": [
       "<Figure size 432x288 with 1 Axes>"
      ]
     },
     "metadata": {
      "needs_background": "light"
     },
     "output_type": "display_data"
    }
   ],
   "source": [
    "epic_count=epic['Relation_to_UCSC_CpG_Island'].value_counts()/len(epic)*100\n",
    "dg_count=dg['Relation_to_UCSC_CpG_Island'].value_counts()/len(dg)*100\n",
    "cgi=pd.concat([epic_count, dg_count], axis=1)\n",
    "cgi.columns=['All CpGs','DMCpGs']\n",
    "cgi.plot(kind='bar')\n",
    "plt.title('CGI vs Open Sea Enrichment', fontsize=16)\n",
    "plt.xlabel('CpG location', fontsize=14)\n",
    "plt.ylabel('Percentage of CpGs', fontsize=14)\n",
    "plt.xticks(fontsize= 12)\n",
    "plt.xticks(fontsize= 12)"
   ]
  },
  {
   "cell_type": "code",
   "execution_count": 42,
   "metadata": {},
   "outputs": [
    {
     "data": {
      "text/plain": [
       "(array([0, 1]), [Text(0, 0, 'Not Enhancer'), Text(1, 0, 'Enhancer')])"
      ]
     },
     "execution_count": 42,
     "metadata": {},
     "output_type": "execute_result"
    },
    {
     "data": {
      "image/png": "[encoded data removed]",
      "text/plain": [
       "<Figure size 432x288 with 1 Axes>"
      ]
     },
     "metadata": {
      "needs_background": "light"
     },
     "output_type": "display_data"
    }
   ],
   "source": [
    "epic_count=epic['450k_Enhancer'].value_counts()/len(epic)*100\n",
    "dg_count=dg['450k_Enhancer'].value_counts()/len(dg)*100\n",
    "enhancer=pd.concat([epic_count, dg_count], axis=1)\n",
    "enhancer.columns=['All CpGs','DMCpGs']\n",
    "enhancer.index=['Not Enhancer','Enhancer']\n",
    "enhancer.plot(kind='bar')\n",
    "plt.title('All Enahncers', fontsize=16)\n",
    "plt.xlabel('CpG location', fontsize=14)\n",
    "plt.ylabel('Percentage of CpGs', fontsize=14)\n",
    "plt.xticks(fontsize= 12)"
   ]
  },
  {
   "cell_type": "code",
   "execution_count": 28,
   "metadata": {},
   "outputs": [
    {
     "data": {
      "text/plain": [
       "3.0    5158\n",
       "Name: DNase_Hypersensitivity_Evidence_Count, dtype: int64"
      ]
     },
     "execution_count": 28,
     "metadata": {},
     "output_type": "execute_result"
    }
   ],
   "source": [
    "dg.DNase_Hypersensitivity_Evidence_Count.value_counts()"
   ]
  },
  {
   "cell_type": "code",
   "execution_count": 29,
   "metadata": {},
   "outputs": [
    {
     "data": {
      "text/plain": [
       "0.09440842787682333"
      ]
     },
     "execution_count": 29,
     "metadata": {},
     "output_type": "execute_result"
    }
   ],
   "source": [
    "(dg.OpenChromatin_Evidence_Count.value_counts()/len(dg)).sum()"
   ]
  },
  {
   "cell_type": "code",
   "execution_count": 30,
   "metadata": {},
   "outputs": [
    {
     "data": {
      "text/plain": [
       "0.1540511349133571"
      ]
     },
     "execution_count": 30,
     "metadata": {},
     "output_type": "execute_result"
    }
   ],
   "source": [
    "(epic.TFBS_Evidence_Count.value_counts()/len(epic)).sum()"
   ]
  },
  {
   "cell_type": "code",
   "execution_count": 31,
   "metadata": {},
   "outputs": [
    {
     "data": {
      "text/plain": [
       "(40449, 4)"
      ]
     },
     "execution_count": 31,
     "metadata": {},
     "output_type": "execute_result"
    }
   ],
   "source": [
    "bed='http://www.enhanceratlas.org/data/download/enhancer/hs/HSC.bed'\n",
    "bed='http://www.enhanceratlas.org/data/download/enhancer/hs/Fibroblast_foreskin.bed'\n",
    "enh=pd.read_csv(bed,sep='\\t',header=None)\n",
    "enh.shape"
   ]
  },
  {
   "cell_type": "code",
   "execution_count": 34,
   "metadata": {},
   "outputs": [],
   "source": [
    "enh['ch']=enh[0].str.strip('chr')\n",
    "enh['ch']=pd.to_numeric(enh.ch,errors='coerce')\n",
    "enh=enh.dropna()\n",
    "enh['gs']=(enh.ch*10**9+enh[1]).astype(int)\n",
    "enh['ge']=(enh.ch*10**9+enh[2]).astype(int)"
   ]
  },
  {
   "cell_type": "code",
   "execution_count": 35,
   "metadata": {},
   "outputs": [],
   "source": [
    "a=[]\n",
    "for i,row in enh.iterrows():\n",
    "    a.append(list(range(row['gs'],row['ge'])))"
   ]
  },
  {
   "cell_type": "code",
   "execution_count": 36,
   "metadata": {},
   "outputs": [],
   "source": [
    "a=set().union(*a)"
   ]
  },
  {
   "cell_type": "code",
   "execution_count": 37,
   "metadata": {},
   "outputs": [],
   "source": [
    "epic['enh']=epic.g.apply(lambda v: v in a)"
   ]
  },
  {
   "cell_type": "code",
   "execution_count": 38,
   "metadata": {},
   "outputs": [
    {
     "name": "stderr",
     "output_type": "stream",
     "text": [
      "/Users/mahdimoqri/miniconda3/lib/python3.7/site-packages/ipykernel_launcher.py:1: SettingWithCopyWarning: \n",
      "A value is trying to be set on a copy of a slice from a DataFrame.\n",
      "Try using .loc[row_indexer,col_indexer] = value instead\n",
      "\n",
      "See the caveats in the documentation: https://pandas.pydata.org/pandas-docs/stable/user_guide/indexing.html#returning-a-view-versus-a-copy\n",
      "  \"\"\"Entry point for launching an IPython kernel.\n"
     ]
    }
   ],
   "source": [
    "dg['enh']=dg.g.apply(lambda v: v in a)"
   ]
  },
  {
   "cell_type": "code",
   "execution_count": 39,
   "metadata": {},
   "outputs": [
    {
     "data": {
      "text/plain": [
       "False    0.903138\n",
       "True     0.096862\n",
       "Name: enh, dtype: float64"
      ]
     },
     "execution_count": 39,
     "metadata": {},
     "output_type": "execute_result"
    }
   ],
   "source": [
    "epic.enh.value_counts()/len(epic)"
   ]
  },
  {
   "cell_type": "code",
   "execution_count": 40,
   "metadata": {},
   "outputs": [
    {
     "data": {
      "text/plain": [
       "False    0.773366\n",
       "True     0.226634\n",
       "Name: enh, dtype: float64"
      ]
     },
     "execution_count": 40,
     "metadata": {},
     "output_type": "execute_result"
    }
   ],
   "source": [
    "dg.enh.value_counts()/len(dg)"
   ]
  },
  {
   "cell_type": "code",
   "execution_count": 43,
   "metadata": {},
   "outputs": [
    {
     "data": {
      "text/plain": [
       "(array([0, 1]), [Text(0, 0, 'Not Enhancer'), Text(1, 0, 'Enhancer')])"
      ]
     },
     "execution_count": 43,
     "metadata": {},
     "output_type": "execute_result"
    },
    {
     "data": {
      "image/png": "[encoded data removed]",
      "text/plain": [
       "<Figure size 432x288 with 1 Axes>"
      ]
     },
     "metadata": {
      "needs_background": "light"
     },
     "output_type": "display_data"
    }
   ],
   "source": [
    "fibc=(pd.DataFrame([epic.enh.value_counts()/len(epic),dg.enh.value_counts()/len(dg)])).T\n",
    "fibc.columns=['All CpGs','DMCpGs']\n",
    "fibc.index=['Not Enhancer', 'Enhancer']\n",
    "fibc.plot(kind='bar')\n",
    "plt.title('Fibroblast Enhancers', fontsize=16)\n",
    "plt.xlabel('CpG location', fontsize=14)\n",
    "plt.ylabel('Percentage of CpGs', fontsize=14)\n",
    "plt.xticks(fontsize= 12)"
   ]
  },
  {
   "cell_type": "code",
   "execution_count": 44,
   "metadata": {},
   "outputs": [
    {
     "data": {
      "text/plain": [
       "False    0.692599\n",
       "True     0.307401\n",
       "Name: 450k_Enhancer, dtype: float64"
      ]
     },
     "execution_count": 44,
     "metadata": {},
     "output_type": "execute_result"
    }
   ],
   "source": [
    "dg['450k_Enhancer'].value_counts()/len(dg)"
   ]
  },
  {
   "cell_type": "code",
   "execution_count": 45,
   "metadata": {},
   "outputs": [
    {
     "data": {
      "text/html": [
       "<div>\n",
       "<style scoped>\n",
       "    .dataframe tbody tr th:only-of-type {\n",
       "        vertical-align: middle;\n",
       "    }\n",
       "\n",
       "    .dataframe tbody tr th {\n",
       "        vertical-align: top;\n",
       "    }\n",
       "\n",
       "    .dataframe thead th {\n",
       "        text-align: right;\n",
       "    }\n",
       "</style>\n",
       "<table border=\"1\" class=\"dataframe\">\n",
       "  <thead>\n",
       "    <tr style=\"text-align: right;\">\n",
       "      <th>450k_Enhancer</th>\n",
       "      <th>True</th>\n",
       "      <th>False</th>\n",
       "    </tr>\n",
       "    <tr>\n",
       "      <th>CHR</th>\n",
       "      <th></th>\n",
       "      <th></th>\n",
       "    </tr>\n",
       "  </thead>\n",
       "  <tbody>\n",
       "    <tr>\n",
       "      <th>1</th>\n",
       "      <td>199</td>\n",
       "      <td>493</td>\n",
       "    </tr>\n",
       "    <tr>\n",
       "      <th>10</th>\n",
       "      <td>146</td>\n",
       "      <td>251</td>\n",
       "    </tr>\n",
       "    <tr>\n",
       "      <th>11</th>\n",
       "      <td>126</td>\n",
       "      <td>262</td>\n",
       "    </tr>\n",
       "    <tr>\n",
       "      <th>12</th>\n",
       "      <td>120</td>\n",
       "      <td>306</td>\n",
       "    </tr>\n",
       "    <tr>\n",
       "      <th>13</th>\n",
       "      <td>55</td>\n",
       "      <td>159</td>\n",
       "    </tr>\n",
       "    <tr>\n",
       "      <th>14</th>\n",
       "      <td>55</td>\n",
       "      <td>160</td>\n",
       "    </tr>\n",
       "    <tr>\n",
       "      <th>15</th>\n",
       "      <td>100</td>\n",
       "      <td>188</td>\n",
       "    </tr>\n",
       "    <tr>\n",
       "      <th>16</th>\n",
       "      <td>45</td>\n",
       "      <td>129</td>\n",
       "    </tr>\n",
       "    <tr>\n",
       "      <th>17</th>\n",
       "      <td>56</td>\n",
       "      <td>205</td>\n",
       "    </tr>\n",
       "    <tr>\n",
       "      <th>18</th>\n",
       "      <td>29</td>\n",
       "      <td>121</td>\n",
       "    </tr>\n",
       "    <tr>\n",
       "      <th>19</th>\n",
       "      <td>9</td>\n",
       "      <td>70</td>\n",
       "    </tr>\n",
       "    <tr>\n",
       "      <th>2</th>\n",
       "      <td>249</td>\n",
       "      <td>475</td>\n",
       "    </tr>\n",
       "    <tr>\n",
       "      <th>20</th>\n",
       "      <td>26</td>\n",
       "      <td>111</td>\n",
       "    </tr>\n",
       "    <tr>\n",
       "      <th>21</th>\n",
       "      <td>22</td>\n",
       "      <td>57</td>\n",
       "    </tr>\n",
       "    <tr>\n",
       "      <th>22</th>\n",
       "      <td>21</td>\n",
       "      <td>49</td>\n",
       "    </tr>\n",
       "    <tr>\n",
       "      <th>3</th>\n",
       "      <td>186</td>\n",
       "      <td>393</td>\n",
       "    </tr>\n",
       "    <tr>\n",
       "      <th>4</th>\n",
       "      <td>140</td>\n",
       "      <td>296</td>\n",
       "    </tr>\n",
       "    <tr>\n",
       "      <th>5</th>\n",
       "      <td>168</td>\n",
       "      <td>325</td>\n",
       "    </tr>\n",
       "    <tr>\n",
       "      <th>6</th>\n",
       "      <td>180</td>\n",
       "      <td>355</td>\n",
       "    </tr>\n",
       "    <tr>\n",
       "      <th>7</th>\n",
       "      <td>148</td>\n",
       "      <td>295</td>\n",
       "    </tr>\n",
       "    <tr>\n",
       "      <th>8</th>\n",
       "      <td>135</td>\n",
       "      <td>267</td>\n",
       "    </tr>\n",
       "    <tr>\n",
       "      <th>9</th>\n",
       "      <td>61</td>\n",
       "      <td>161</td>\n",
       "    </tr>\n",
       "  </tbody>\n",
       "</table>\n",
       "</div>"
      ],
      "text/plain": [
       "450k_Enhancer  True  False\n",
       "CHR                       \n",
       "1               199    493\n",
       "10              146    251\n",
       "11              126    262\n",
       "12              120    306\n",
       "13               55    159\n",
       "14               55    160\n",
       "15              100    188\n",
       "16               45    129\n",
       "17               56    205\n",
       "18               29    121\n",
       "19                9     70\n",
       "2               249    475\n",
       "20               26    111\n",
       "21               22     57\n",
       "22               21     49\n",
       "3               186    393\n",
       "4               140    296\n",
       "5               168    325\n",
       "6               180    355\n",
       "7               148    295\n",
       "8               135    267\n",
       "9                61    161"
      ]
     },
     "execution_count": 45,
     "metadata": {},
     "output_type": "execute_result"
    }
   ],
   "source": [
    "dgc=dg[['450k_Enhancer','CHR']].groupby(['CHR','450k_Enhancer']).size().unstack()\n",
    "dgc"
   ]
  },
  {
   "cell_type": "code",
   "execution_count": 61,
   "metadata": {},
   "outputs": [
    {
     "data": {
      "text/plain": [
       "22.0"
      ]
     },
     "execution_count": 61,
     "metadata": {},
     "output_type": "execute_result"
    }
   ],
   "source": [
    "dg.loc['cg27421918'].ch"
   ]
  },
  {
   "cell_type": "code",
   "execution_count": 57,
   "metadata": {},
   "outputs": [
    {
     "data": {
      "text/plain": [
       "cg00035689   -0.103076\n",
       "cg00561395   -0.105195\n",
       "cg00605306   -0.294203\n",
       "cg00856223   -0.255183\n",
       "cg01570128   -0.129356\n",
       "                ...   \n",
       "cg26246398   -0.119104\n",
       "cg26768155   -0.106204\n",
       "cg27001818   -0.175921\n",
       "cg27377225   -0.420757\n",
       "cg27421918   -0.349555\n",
       "Name: skin_dif, Length: 70, dtype: float64"
      ]
     },
     "execution_count": 57,
     "metadata": {},
     "output_type": "execute_result"
    }
   ],
   "source": [
    "dg[dg.ch==22].skin_dif"
   ]
  },
  {
   "cell_type": "code",
   "execution_count": 47,
   "metadata": {},
   "outputs": [],
   "source": [
    "horv=pd.read_csv(data+'horvath.csv',index_col=0,skiprows=2)\n",
    "horv=horv.merge(df[['skin_dif','vein_dif']],left_index=True,right_index=True)\n",
    "horv['skin_effect']=(horv.CoefficientTraining*horv.skin_dif)*21\n",
    "horv['vein_effect']=(horv.CoefficientTraining*horv.vein_dif)*21"
   ]
  },
  {
   "cell_type": "code",
   "execution_count": null,
   "metadata": {},
   "outputs": [],
   "source": [
    "skin=pd.concat([horv.skin_effect.sort_values()[:5],horv.skin_effect.sort_values()[-5:]])\n",
    "sns.barplot(skin.index,skin.values,palette=(\"coolwarm\"))\n",
    "plt.xticks(rotation=90);\n",
    "plt.ylabel('Years', fontsize=14)"
   ]
  },
  {
   "cell_type": "code",
   "execution_count": null,
   "metadata": {},
   "outputs": [],
   "source": [
    "vein=pd.concat([horv.vein_effect.sort_values()[:5],horv.vein_effect.sort_values()[-5:]])\n",
    "sns.barplot(vein.index,vein.values,palette=(\"coolwarm\"))\n",
    "plt.xticks(rotation=90);\n",
    "plt.ylabel('Years', fontsize=14)"
   ]
  },
  {
   "cell_type": "code",
   "execution_count": 28,
   "metadata": {},
   "outputs": [
    {
     "data": {
      "text/html": [
       "<div>\n",
       "<style scoped>\n",
       "    .dataframe tbody tr th:only-of-type {\n",
       "        vertical-align: middle;\n",
       "    }\n",
       "\n",
       "    .dataframe tbody tr th {\n",
       "        vertical-align: top;\n",
       "    }\n",
       "\n",
       "    .dataframe thead th {\n",
       "        text-align: right;\n",
       "    }\n",
       "</style>\n",
       "<table border=\"1\" class=\"dataframe\">\n",
       "  <thead>\n",
       "    <tr style=\"text-align: right;\">\n",
       "      <th></th>\n",
       "      <th>skin_dif</th>\n",
       "      <th>vein_dif</th>\n",
       "    </tr>\n",
       "  </thead>\n",
       "  <tbody>\n",
       "    <tr>\n",
       "      <th>cg06144905</th>\n",
       "      <td>-0.149459</td>\n",
       "      <td>-0.358302</td>\n",
       "    </tr>\n",
       "    <tr>\n",
       "      <th>cg02463253</th>\n",
       "      <td>-0.032011</td>\n",
       "      <td>-0.012339</td>\n",
       "    </tr>\n",
       "    <tr>\n",
       "      <th>cg00016913</th>\n",
       "      <td>-0.178758</td>\n",
       "      <td>-0.057542</td>\n",
       "    </tr>\n",
       "    <tr>\n",
       "      <th>cg22968401</th>\n",
       "      <td>-0.134953</td>\n",
       "      <td>-0.014891</td>\n",
       "    </tr>\n",
       "    <tr>\n",
       "      <th>cg17751776</th>\n",
       "      <td>-0.016066</td>\n",
       "      <td>-0.002674</td>\n",
       "    </tr>\n",
       "  </tbody>\n",
       "</table>\n",
       "</div>"
      ],
      "text/plain": [
       "            skin_dif  vein_dif\n",
       "cg06144905 -0.149459 -0.358302\n",
       "cg02463253 -0.032011 -0.012339\n",
       "cg00016913 -0.178758 -0.057542\n",
       "cg22968401 -0.134953 -0.014891\n",
       "cg17751776 -0.016066 -0.002674"
      ]
     },
     "execution_count": 28,
     "metadata": {},
     "output_type": "execute_result"
    }
   ],
   "source": [
    "topcg=df.loc[horv.sort_values('vein_effect').index[0]][['CHR','MAPINFO']]\n",
    "topcg=df[(df.CHR=='17')&(df.MAPINFO>=topcg.MAPINFO)&(df.MAPINFO<topcg.MAPINFO+400)].sort_values(\"MAPINFO\")[['skin_dif','vein_dif']]\n",
    "topcg"
   ]
  },
  {
   "cell_type": "code",
   "execution_count": 29,
   "metadata": {},
   "outputs": [
    {
     "data": {
      "text/plain": [
       "Text(0, 0.5, 'Methylation')"
      ]
     },
     "execution_count": 29,
     "metadata": {},
     "output_type": "execute_result"
    },
    {
     "data": {
      "image/png": "[encoded data removed]",
      "text/plain": [
       "<Figure size 720x360 with 1 Axes>"
      ]
     },
     "metadata": {
      "needs_background": "light"
     },
     "output_type": "display_data"
    }
   ],
   "source": [
    "PIPOX=df.loc[topcg.index].T.merge(meta[meta.cell=='skin'][['treatment']],left_index=True,right_index=True)\n",
    "PIPOX.columns=['mapinfo_'+ str(b) for b in df.loc[topcg.index].MAPINFO.astype(int).values]+['treatment']\n",
    "PIPOX['person']=['person 1','person 1','person 2','person 2','person 3','person 3','person 4','person 4']\n",
    "PIPOX['id']=PIPOX.reset_index().index\n",
    "p=pd.wide_to_long(PIPOX,'mapinfo_','id','i')\n",
    "p['CpG']=p.index.get_level_values(1)\n",
    "p['cg']=p['mapinfo_'].astype(float)\n",
    "fig, ax = plt.subplots(figsize=(10,5))\n",
    "sns.lineplot(data=p,x='CpG',y='cg',style='person',hue='treatment')\n",
    "plt.xlabel('CpG location (Chr 17)', fontsize=14)\n",
    "plt.ylabel('Methylation', fontsize=14)\n"
   ]
  },
  {
   "cell_type": "code",
   "execution_count": 30,
   "metadata": {},
   "outputs": [
    {
     "data": {
      "text/plain": [
       "Text(0, 0.5, 'Methylation')"
      ]
     },
     "execution_count": 30,
     "metadata": {},
     "output_type": "execute_result"
    },
    {
     "data": {
      "image/png": "[encoded data removed]",
      "text/plain": [
       "<Figure size 720x360 with 1 Axes>"
      ]
     },
     "metadata": {
      "needs_background": "light"
     },
     "output_type": "display_data"
    }
   ],
   "source": [
    "PIPOX=df.loc[topcg.index].T.merge(meta[meta.cell=='vein'][['treatment']],left_index=True,right_index=True)\n",
    "PIPOX.columns=['mapinfo_'+ str(b) for b in df.loc[topcg.index].MAPINFO.astype(int).values]+['treatment']\n",
    "PIPOX['person']=['person 1','person 1','person 2','person 2','person 3','person 3','person 4','person 4']\n",
    "PIPOX['id']=PIPOX.reset_index().index\n",
    "p=pd.wide_to_long(PIPOX,'mapinfo_','id','i')\n",
    "p['CpG']=p.index.get_level_values(1)\n",
    "p['cg']=p['mapinfo_'].astype(float)\n",
    "fig, ax = plt.subplots(figsize=(10,5))\n",
    "sns.lineplot(data=p,x='CpG',y='cg',style='person',hue='treatment')\n",
    "plt.xlabel('CpG location (Chr 17)', fontsize=14)\n",
    "plt.ylabel('Methylation', fontsize=14)"
   ]
  },
  {
   "cell_type": "code",
   "execution_count": 69,
   "metadata": {},
   "outputs": [
    {
     "name": "stderr",
     "output_type": "stream",
     "text": [
      "/Users/mahdimoqri/miniconda3/lib/python3.7/site-packages/openpyxl/worksheet/_reader.py:308: UserWarning: Unknown extension is not supported and will be removed\n",
      "  warn(msg)\n"
     ]
    }
   ],
   "source": [
    "fiba=pd.read_excel(fib_age,index_col=0).drop('Gene Name').iloc[:,0:2]\n",
    "fibt=pd.read_excel(fib_treat,index_col=0).drop('Gene Name').iloc[:,0:2]\n",
    "fibt.index=fibt.index.str.strip()\n",
    "fibt.columns=['n','t']"
   ]
  },
  {
   "cell_type": "code",
   "execution_count": 75,
   "metadata": {},
   "outputs": [
    {
     "ename": "KeyError",
     "evalue": "'KLF4'",
     "output_type": "error",
     "traceback": [
      "\u001b[0;31m---------------------------------------------------------------------------\u001b[0m",
      "\u001b[0;31mKeyError\u001b[0m                                  Traceback (most recent call last)",
      "\u001b[0;32m~/miniconda3/lib/python3.7/site-packages/pandas/core/indexes/base.py\u001b[0m in \u001b[0;36mget_loc\u001b[0;34m(self, key, method, tolerance)\u001b[0m\n\u001b[1;32m   3079\u001b[0m             \u001b[0;32mtry\u001b[0m\u001b[0;34m:\u001b[0m\u001b[0;34m\u001b[0m\u001b[0;34m\u001b[0m\u001b[0m\n\u001b[0;32m-> 3080\u001b[0;31m                 \u001b[0;32mreturn\u001b[0m \u001b[0mself\u001b[0m\u001b[0;34m.\u001b[0m\u001b[0m_engine\u001b[0m\u001b[0;34m.\u001b[0m\u001b[0mget_loc\u001b[0m\u001b[0;34m(\u001b[0m\u001b[0mcasted_key\u001b[0m\u001b[0;34m)\u001b[0m\u001b[0;34m\u001b[0m\u001b[0;34m\u001b[0m\u001b[0m\n\u001b[0m\u001b[1;32m   3081\u001b[0m             \u001b[0;32mexcept\u001b[0m \u001b[0mKeyError\u001b[0m \u001b[0;32mas\u001b[0m \u001b[0merr\u001b[0m\u001b[0;34m:\u001b[0m\u001b[0;34m\u001b[0m\u001b[0;34m\u001b[0m\u001b[0m\n",
      "\u001b[0;32mpandas/_libs/index.pyx\u001b[0m in \u001b[0;36mpandas._libs.index.IndexEngine.get_loc\u001b[0;34m()\u001b[0m\n",
      "\u001b[0;32mpandas/_libs/index.pyx\u001b[0m in \u001b[0;36mpandas._libs.index.IndexEngine.get_loc\u001b[0;34m()\u001b[0m\n",
      "\u001b[0;32mpandas/_libs/hashtable_class_helper.pxi\u001b[0m in \u001b[0;36mpandas._libs.hashtable.PyObjectHashTable.get_item\u001b[0;34m()\u001b[0m\n",
      "\u001b[0;32mpandas/_libs/hashtable_class_helper.pxi\u001b[0m in \u001b[0;36mpandas._libs.hashtable.PyObjectHashTable.get_item\u001b[0;34m()\u001b[0m\n",
      "\u001b[0;31mKeyError\u001b[0m: 'KLF4'",
      "\nThe above exception was the direct cause of the following exception:\n",
      "\u001b[0;31mKeyError\u001b[0m                                  Traceback (most recent call last)",
      "\u001b[0;32m<ipython-input-75-81149a2ff0d1>\u001b[0m in \u001b[0;36m<module>\u001b[0;34m\u001b[0m\n\u001b[0;32m----> 1\u001b[0;31m \u001b[0mfibt\u001b[0m\u001b[0;34m.\u001b[0m\u001b[0mloc\u001b[0m\u001b[0;34m[\u001b[0m\u001b[0;34m'KLF4'\u001b[0m\u001b[0;34m]\u001b[0m\u001b[0;34m\u001b[0m\u001b[0;34m\u001b[0m\u001b[0m\n\u001b[0m",
      "\u001b[0;32m~/miniconda3/lib/python3.7/site-packages/pandas/core/indexing.py\u001b[0m in \u001b[0;36m__getitem__\u001b[0;34m(self, key)\u001b[0m\n\u001b[1;32m    892\u001b[0m \u001b[0;34m\u001b[0m\u001b[0m\n\u001b[1;32m    893\u001b[0m             \u001b[0mmaybe_callable\u001b[0m \u001b[0;34m=\u001b[0m \u001b[0mcom\u001b[0m\u001b[0;34m.\u001b[0m\u001b[0mapply_if_callable\u001b[0m\u001b[0;34m(\u001b[0m\u001b[0mkey\u001b[0m\u001b[0;34m,\u001b[0m \u001b[0mself\u001b[0m\u001b[0;34m.\u001b[0m\u001b[0mobj\u001b[0m\u001b[0;34m)\u001b[0m\u001b[0;34m\u001b[0m\u001b[0;34m\u001b[0m\u001b[0m\n\u001b[0;32m--> 894\u001b[0;31m             \u001b[0;32mreturn\u001b[0m \u001b[0mself\u001b[0m\u001b[0;34m.\u001b[0m\u001b[0m_getitem_axis\u001b[0m\u001b[0;34m(\u001b[0m\u001b[0mmaybe_callable\u001b[0m\u001b[0;34m,\u001b[0m \u001b[0maxis\u001b[0m\u001b[0;34m=\u001b[0m\u001b[0maxis\u001b[0m\u001b[0;34m)\u001b[0m\u001b[0;34m\u001b[0m\u001b[0;34m\u001b[0m\u001b[0m\n\u001b[0m\u001b[1;32m    895\u001b[0m \u001b[0;34m\u001b[0m\u001b[0m\n\u001b[1;32m    896\u001b[0m     \u001b[0;32mdef\u001b[0m \u001b[0m_is_scalar_access\u001b[0m\u001b[0;34m(\u001b[0m\u001b[0mself\u001b[0m\u001b[0;34m,\u001b[0m \u001b[0mkey\u001b[0m\u001b[0;34m:\u001b[0m \u001b[0mTuple\u001b[0m\u001b[0;34m)\u001b[0m\u001b[0;34m:\u001b[0m\u001b[0;34m\u001b[0m\u001b[0;34m\u001b[0m\u001b[0m\n",
      "\u001b[0;32m~/miniconda3/lib/python3.7/site-packages/pandas/core/indexing.py\u001b[0m in \u001b[0;36m_getitem_axis\u001b[0;34m(self, key, axis)\u001b[0m\n\u001b[1;32m   1121\u001b[0m         \u001b[0;31m# fall thru to straight lookup\u001b[0m\u001b[0;34m\u001b[0m\u001b[0;34m\u001b[0m\u001b[0;34m\u001b[0m\u001b[0m\n\u001b[1;32m   1122\u001b[0m         \u001b[0mself\u001b[0m\u001b[0;34m.\u001b[0m\u001b[0m_validate_key\u001b[0m\u001b[0;34m(\u001b[0m\u001b[0mkey\u001b[0m\u001b[0;34m,\u001b[0m \u001b[0maxis\u001b[0m\u001b[0;34m)\u001b[0m\u001b[0;34m\u001b[0m\u001b[0;34m\u001b[0m\u001b[0m\n\u001b[0;32m-> 1123\u001b[0;31m         \u001b[0;32mreturn\u001b[0m \u001b[0mself\u001b[0m\u001b[0;34m.\u001b[0m\u001b[0m_get_label\u001b[0m\u001b[0;34m(\u001b[0m\u001b[0mkey\u001b[0m\u001b[0;34m,\u001b[0m \u001b[0maxis\u001b[0m\u001b[0;34m=\u001b[0m\u001b[0maxis\u001b[0m\u001b[0;34m)\u001b[0m\u001b[0;34m\u001b[0m\u001b[0;34m\u001b[0m\u001b[0m\n\u001b[0m\u001b[1;32m   1124\u001b[0m \u001b[0;34m\u001b[0m\u001b[0m\n\u001b[1;32m   1125\u001b[0m     \u001b[0;32mdef\u001b[0m \u001b[0m_get_slice_axis\u001b[0m\u001b[0;34m(\u001b[0m\u001b[0mself\u001b[0m\u001b[0;34m,\u001b[0m \u001b[0mslice_obj\u001b[0m\u001b[0;34m:\u001b[0m \u001b[0mslice\u001b[0m\u001b[0;34m,\u001b[0m \u001b[0maxis\u001b[0m\u001b[0;34m:\u001b[0m \u001b[0mint\u001b[0m\u001b[0;34m)\u001b[0m\u001b[0;34m:\u001b[0m\u001b[0;34m\u001b[0m\u001b[0;34m\u001b[0m\u001b[0m\n",
      "\u001b[0;32m~/miniconda3/lib/python3.7/site-packages/pandas/core/indexing.py\u001b[0m in \u001b[0;36m_get_label\u001b[0;34m(self, label, axis)\u001b[0m\n\u001b[1;32m   1070\u001b[0m     \u001b[0;32mdef\u001b[0m \u001b[0m_get_label\u001b[0m\u001b[0;34m(\u001b[0m\u001b[0mself\u001b[0m\u001b[0;34m,\u001b[0m \u001b[0mlabel\u001b[0m\u001b[0;34m,\u001b[0m \u001b[0maxis\u001b[0m\u001b[0;34m:\u001b[0m \u001b[0mint\u001b[0m\u001b[0;34m)\u001b[0m\u001b[0;34m:\u001b[0m\u001b[0;34m\u001b[0m\u001b[0;34m\u001b[0m\u001b[0m\n\u001b[1;32m   1071\u001b[0m         \u001b[0;31m# GH#5667 this will fail if the label is not present in the axis.\u001b[0m\u001b[0;34m\u001b[0m\u001b[0;34m\u001b[0m\u001b[0;34m\u001b[0m\u001b[0m\n\u001b[0;32m-> 1072\u001b[0;31m         \u001b[0;32mreturn\u001b[0m \u001b[0mself\u001b[0m\u001b[0;34m.\u001b[0m\u001b[0mobj\u001b[0m\u001b[0;34m.\u001b[0m\u001b[0mxs\u001b[0m\u001b[0;34m(\u001b[0m\u001b[0mlabel\u001b[0m\u001b[0;34m,\u001b[0m \u001b[0maxis\u001b[0m\u001b[0;34m=\u001b[0m\u001b[0maxis\u001b[0m\u001b[0;34m)\u001b[0m\u001b[0;34m\u001b[0m\u001b[0;34m\u001b[0m\u001b[0m\n\u001b[0m\u001b[1;32m   1073\u001b[0m \u001b[0;34m\u001b[0m\u001b[0m\n\u001b[1;32m   1074\u001b[0m     \u001b[0;32mdef\u001b[0m \u001b[0m_handle_lowerdim_multi_index_axis0\u001b[0m\u001b[0;34m(\u001b[0m\u001b[0mself\u001b[0m\u001b[0;34m,\u001b[0m \u001b[0mtup\u001b[0m\u001b[0;34m:\u001b[0m \u001b[0mTuple\u001b[0m\u001b[0;34m)\u001b[0m\u001b[0;34m:\u001b[0m\u001b[0;34m\u001b[0m\u001b[0;34m\u001b[0m\u001b[0m\n",
      "\u001b[0;32m~/miniconda3/lib/python3.7/site-packages/pandas/core/generic.py\u001b[0m in \u001b[0;36mxs\u001b[0;34m(self, key, axis, level, drop_level)\u001b[0m\n\u001b[1;32m   3734\u001b[0m                 \u001b[0;32mraise\u001b[0m \u001b[0mTypeError\u001b[0m\u001b[0;34m(\u001b[0m\u001b[0;34mf\"Expected label or tuple of labels, got {key}\"\u001b[0m\u001b[0;34m)\u001b[0m \u001b[0;32mfrom\u001b[0m \u001b[0me\u001b[0m\u001b[0;34m\u001b[0m\u001b[0;34m\u001b[0m\u001b[0m\n\u001b[1;32m   3735\u001b[0m         \u001b[0;32melse\u001b[0m\u001b[0;34m:\u001b[0m\u001b[0;34m\u001b[0m\u001b[0;34m\u001b[0m\u001b[0m\n\u001b[0;32m-> 3736\u001b[0;31m             \u001b[0mloc\u001b[0m \u001b[0;34m=\u001b[0m \u001b[0mindex\u001b[0m\u001b[0;34m.\u001b[0m\u001b[0mget_loc\u001b[0m\u001b[0;34m(\u001b[0m\u001b[0mkey\u001b[0m\u001b[0;34m)\u001b[0m\u001b[0;34m\u001b[0m\u001b[0;34m\u001b[0m\u001b[0m\n\u001b[0m\u001b[1;32m   3737\u001b[0m \u001b[0;34m\u001b[0m\u001b[0m\n\u001b[1;32m   3738\u001b[0m             \u001b[0;32mif\u001b[0m \u001b[0misinstance\u001b[0m\u001b[0;34m(\u001b[0m\u001b[0mloc\u001b[0m\u001b[0;34m,\u001b[0m \u001b[0mnp\u001b[0m\u001b[0;34m.\u001b[0m\u001b[0mndarray\u001b[0m\u001b[0;34m)\u001b[0m\u001b[0;34m:\u001b[0m\u001b[0;34m\u001b[0m\u001b[0;34m\u001b[0m\u001b[0m\n",
      "\u001b[0;32m~/miniconda3/lib/python3.7/site-packages/pandas/core/indexes/base.py\u001b[0m in \u001b[0;36mget_loc\u001b[0;34m(self, key, method, tolerance)\u001b[0m\n\u001b[1;32m   3080\u001b[0m                 \u001b[0;32mreturn\u001b[0m \u001b[0mself\u001b[0m\u001b[0;34m.\u001b[0m\u001b[0m_engine\u001b[0m\u001b[0;34m.\u001b[0m\u001b[0mget_loc\u001b[0m\u001b[0;34m(\u001b[0m\u001b[0mcasted_key\u001b[0m\u001b[0;34m)\u001b[0m\u001b[0;34m\u001b[0m\u001b[0;34m\u001b[0m\u001b[0m\n\u001b[1;32m   3081\u001b[0m             \u001b[0;32mexcept\u001b[0m \u001b[0mKeyError\u001b[0m \u001b[0;32mas\u001b[0m \u001b[0merr\u001b[0m\u001b[0;34m:\u001b[0m\u001b[0;34m\u001b[0m\u001b[0;34m\u001b[0m\u001b[0m\n\u001b[0;32m-> 3082\u001b[0;31m                 \u001b[0;32mraise\u001b[0m \u001b[0mKeyError\u001b[0m\u001b[0;34m(\u001b[0m\u001b[0mkey\u001b[0m\u001b[0;34m)\u001b[0m \u001b[0;32mfrom\u001b[0m \u001b[0merr\u001b[0m\u001b[0;34m\u001b[0m\u001b[0;34m\u001b[0m\u001b[0m\n\u001b[0m\u001b[1;32m   3083\u001b[0m \u001b[0;34m\u001b[0m\u001b[0m\n\u001b[1;32m   3084\u001b[0m         \u001b[0;32mif\u001b[0m \u001b[0mtolerance\u001b[0m \u001b[0;32mis\u001b[0m \u001b[0;32mnot\u001b[0m \u001b[0;32mNone\u001b[0m\u001b[0;34m:\u001b[0m\u001b[0;34m\u001b[0m\u001b[0;34m\u001b[0m\u001b[0m\n",
      "\u001b[0;31mKeyError\u001b[0m: 'KLF4'"
     ]
    }
   ],
   "source": [
    "fibt.loc['KLF4']"
   ]
  },
  {
   "cell_type": "code",
   "execution_count": 60,
   "metadata": {},
   "outputs": [],
   "source": [
    "genes=pd.read_csv(data+'genes.txt',index_col=1)"
   ]
  },
  {
   "cell_type": "code",
   "execution_count": 61,
   "metadata": {},
   "outputs": [],
   "source": [
    "genes=genes.merge(fibt,left_index=True,right_index=True)\n",
    "for gene in ['GSM4227385','GSM4227387','GSM4227389','GSM4227391']:\n",
    "    genes[gene]=genes.n\n",
    "for gene in ['GSM4227386','GSM4227388','GSM4227390','GSM4227392']:\n",
    "    genes[gene]=genes['t']\n",
    "genes.index=genes['Gene stable ID']\n",
    "genes=genes.drop(['Gene stable ID','n','t'],1)"
   ]
  },
  {
   "cell_type": "code",
   "execution_count": 62,
   "metadata": {},
   "outputs": [],
   "source": [
    "genes=genes.drop_duplicates()\n",
    "genes.astype(float).round(2).to_csv(data+'exp.csv')"
   ]
  },
  {
   "cell_type": "code",
   "execution_count": 63,
   "metadata": {},
   "outputs": [],
   "source": [
    "fiba.columns=['a','ap']\n",
    "fibt.columns=['t','tp']\n",
    "fiba.index=fiba.index.str.strip()\n",
    "fibt.index=fibt.index.str.strip()"
   ]
  },
  {
   "cell_type": "code",
   "execution_count": 64,
   "metadata": {},
   "outputs": [
    {
     "data": {
      "text/plain": [
       "<AxesSubplot:xlabel='a', ylabel='t'>"
      ]
     },
     "execution_count": 64,
     "metadata": {},
     "output_type": "execute_result"
    },
    {
     "data": {
      "image/png": "[encoded data removed]",
      "text/plain": [
       "<Figure size 432x288 with 1 Axes>"
      ]
     },
     "metadata": {
      "needs_background": "light"
     },
     "output_type": "display_data"
    }
   ],
   "source": [
    "fib=fiba.merge(fibt,left_index=True,right_index=True)\n",
    "fib.plot.scatter('a','t',s=1)"
   ]
  },
  {
   "cell_type": "code",
   "execution_count": 34,
   "metadata": {},
   "outputs": [
    {
     "data": {
      "text/plain": [
       "'PIPOX'"
      ]
     },
     "execution_count": 34,
     "metadata": {},
     "output_type": "execute_result"
    }
   ],
   "source": [
    "gene=df.loc['cg06144905','UCSC_RefGene_Name']\n",
    "gene"
   ]
  },
  {
   "cell_type": "code",
   "execution_count": 57,
   "metadata": {},
   "outputs": [
    {
     "data": {
      "text/plain": [
       "n   -0.162318\n",
       "t    0.029491\n",
       "Name: FOSL2, dtype: object"
      ]
     },
     "execution_count": 57,
     "metadata": {},
     "output_type": "execute_result"
    }
   ],
   "source": [
    "fibt.loc['FOSL2']"
   ]
  },
  {
   "cell_type": "code",
   "execution_count": 36,
   "metadata": {},
   "outputs": [
    {
     "data": {
      "text/plain": [
       "(7404, 76)"
      ]
     },
     "execution_count": 36,
     "metadata": {},
     "output_type": "execute_result"
    }
   ],
   "source": [
    "dg.shape"
   ]
  },
  {
   "cell_type": "code",
   "execution_count": 37,
   "metadata": {},
   "outputs": [],
   "source": [
    "tss=pd.read_csv(data+'tss38.gz',sep='\\t',index_col=0)\n",
    "tss=tss.drop_duplicates()\n",
    "tss.index=tss['name2']"
   ]
  },
  {
   "cell_type": "code",
   "execution_count": 38,
   "metadata": {},
   "outputs": [],
   "source": [
    "fibtg=fibt.merge(tss,left_index=True,right_index=True)"
   ]
  },
  {
   "cell_type": "code",
   "execution_count": 39,
   "metadata": {},
   "outputs": [],
   "source": [
    "fibtg['l']=(fibtg.txEnd-fibtg.txStart)\n",
    "fibtg['ch']=fibtg.chrom.str.strip('chr')\n",
    "fibtg['ch']=pd.to_numeric(fibtg.ch,errors='coerce')\n",
    "fibtg=fibtg.dropna()"
   ]
  },
  {
   "cell_type": "code",
   "execution_count": 40,
   "metadata": {},
   "outputs": [],
   "source": [
    "fibtg['gs']=(fibtg.ch*10**9+fibtg.txStart).astype(int)\n",
    "fibtg['ge']=(fibtg.ch*10**9+fibtg.txEnd).astype(int)"
   ]
  },
  {
   "cell_type": "code",
   "execution_count": 41,
   "metadata": {},
   "outputs": [],
   "source": [
    "fibtg=fibtg[fibtg.l<10**6]"
   ]
  },
  {
   "cell_type": "code",
   "execution_count": 42,
   "metadata": {},
   "outputs": [
    {
     "ename": "KeyboardInterrupt",
     "evalue": "",
     "output_type": "error",
     "traceback": [
      "\u001b[0;31m---------------------------------------------------------------------------\u001b[0m",
      "\u001b[0;31mKeyboardInterrupt\u001b[0m                         Traceback (most recent call last)",
      "\u001b[0;32m<ipython-input-42-69da3ae16275>\u001b[0m in \u001b[0;36m<module>\u001b[0;34m\u001b[0m\n\u001b[0;32m----> 1\u001b[0;31m \u001b[0ma\u001b[0m\u001b[0;34m=\u001b[0m\u001b[0;34m[\u001b[0m\u001b[0;34m]\u001b[0m\u001b[0;34m\u001b[0m\u001b[0;34m\u001b[0m\u001b[0m\n\u001b[0m\u001b[1;32m      2\u001b[0m \u001b[0;32mfor\u001b[0m \u001b[0mi\u001b[0m\u001b[0;34m,\u001b[0m\u001b[0mrow\u001b[0m \u001b[0;32min\u001b[0m \u001b[0mfibtg\u001b[0m\u001b[0;34m.\u001b[0m\u001b[0miterrows\u001b[0m\u001b[0;34m(\u001b[0m\u001b[0;34m)\u001b[0m\u001b[0;34m:\u001b[0m\u001b[0;34m\u001b[0m\u001b[0;34m\u001b[0m\u001b[0m\n\u001b[1;32m      3\u001b[0m     \u001b[0ma\u001b[0m\u001b[0;34m.\u001b[0m\u001b[0mappend\u001b[0m\u001b[0;34m(\u001b[0m\u001b[0mrange\u001b[0m\u001b[0;34m(\u001b[0m\u001b[0mrow\u001b[0m\u001b[0;34m[\u001b[0m\u001b[0;34m'gs'\u001b[0m\u001b[0;34m]\u001b[0m\u001b[0;34m,\u001b[0m\u001b[0mrow\u001b[0m\u001b[0;34m[\u001b[0m\u001b[0;34m'ge'\u001b[0m\u001b[0;34m]\u001b[0m\u001b[0;34m)\u001b[0m\u001b[0;34m)\u001b[0m\u001b[0;34m\u001b[0m\u001b[0;34m\u001b[0m\u001b[0m\n",
      "\u001b[0;31mKeyboardInterrupt\u001b[0m: "
     ]
    }
   ],
   "source": [
    "a=[]\n",
    "for i,row in fibtg.iterrows():\n",
    "    a.append(range(row['gs'],row['ge']))"
   ]
  },
  {
   "cell_type": "code",
   "execution_count": null,
   "metadata": {},
   "outputs": [],
   "source": [
    "a=set().union(*a)"
   ]
  },
  {
   "cell_type": "code",
   "execution_count": null,
   "metadata": {},
   "outputs": [],
   "source": [
    "len(a)"
   ]
  },
  {
   "cell_type": "code",
   "execution_count": null,
   "metadata": {},
   "outputs": [],
   "source": [
    "dg['ch']=dg.CHR_hg38.str.strip('chr')\n",
    "dg['ch']=pd.to_numeric(dg.ch,errors='coerce')\n",
    "dg['g']=dg.ch*10**9+dg.Start_hg38"
   ]
  },
  {
   "cell_type": "code",
   "execution_count": null,
   "metadata": {},
   "outputs": [],
   "source": [
    "dg['i']=dg.g.apply(lambda x:x in a)"
   ]
  },
  {
   "cell_type": "code",
   "execution_count": null,
   "metadata": {},
   "outputs": [],
   "source": [
    "dg[(dg.i)&(dg['450k_Enhancer'])]"
   ]
  },
  {
   "cell_type": "code",
   "execution_count": null,
   "metadata": {},
   "outputs": [],
   "source": [
    "dg.shape"
   ]
  },
  {
   "cell_type": "code",
   "execution_count": 56,
   "metadata": {},
   "outputs": [
    {
     "data": {
      "text/plain": [
       "Name                                                                            cg00129234\n",
       "AddressA_ID                                                                       61756981\n",
       "AlleleA_ProbeSeq                         TCTTAACCTCTACTTCCTCTTTTAACTAACAAAACATTCAATAACT...\n",
       "AddressB_ID                                                                            NaN\n",
       "AlleleB_ProbeSeq                                                                       NaN\n",
       "Infinium_Design_Type                                                                    II\n",
       "Next_Base                                                                              NaN\n",
       "Color_Channel                                                                          NaN\n",
       "Forward_Sequence                         CATTTCACCTCTCTTAGCCTCTGCTTCCTCTTTTAACTGACAGGGC...\n",
       "Genome_Build                                                                          37.0\n",
       "CHR                                                                                      3\n",
       "MAPINFO                                                                         99766639.0\n",
       "SourceSeq                                CGCACAGCCACTGAATGCCCTGTCAGTTAAAAGAGGAAGCAGAGGC...\n",
       "Strand                                                                                   R\n",
       "UCSC_RefGene_Name                                                    FILIP1L;FILIP1L;CMSS1\n",
       "UCSC_RefGene_Accession                                    NM_001042459;NM_182909;NM_032359\n",
       "UCSC_RefGene_Group                                                        5'UTR;5'UTR;Body\n",
       "UCSC_CpG_Islands_Name                                                                  NaN\n",
       "Relation_to_UCSC_CpG_Island                                                       Open Sea\n",
       "Phantom4_Enhancers                                                                     NaN\n",
       "Phantom5_Enhancers                                                                     NaN\n",
       "DMR                                                                                    NaN\n",
       "450k_Enhancer                                                                        False\n",
       "HMM_Island                                                                             NaN\n",
       "Regulatory_Feature_Name                                                                NaN\n",
       "Regulatory_Feature_Group                                                               NaN\n",
       "GencodeBasicV12_NAME                                                               FILIP1L\n",
       "GencodeBasicV12_Accession                                                ENST00000354552.3\n",
       "GencodeBasicV12_Group                                                                5'UTR\n",
       "GencodeCompV12_NAME                                                        FILIP1L;C3orf26\n",
       "GencodeCompV12_Accession                               ENST00000354552.3;ENST00000463526.1\n",
       "GencodeCompV12_Group                                                           5'UTR;5'UTR\n",
       "DNase_Hypersensitivity_NAME                                         chr3:99766240-99767015\n",
       "DNase_Hypersensitivity_Evidence_Count                                                  3.0\n",
       "OpenChromatin_NAME                                                                     NaN\n",
       "OpenChromatin_Evidence_Count                                                           NaN\n",
       "TFBS_NAME                                                                              NaN\n",
       "TFBS_Evidence_Count                                                                    NaN\n",
       "Methyl27_Loci                                                                          NaN\n",
       "Methyl450_Loci                                                                         NaN\n",
       "Chromosome_36                                                                            3\n",
       "Coordinate_36                                                                    101249329\n",
       "SNP_ID                                                                                 NaN\n",
       "SNP_DISTANCE                                                                           NaN\n",
       "SNP_MinorAlleleFrequency                                                               NaN\n",
       "Random_Loci                                                                            NaN\n",
       "MFG_Change_Flagged                                                                   False\n",
       "CHR_hg38                                                                              chr3\n",
       "Start_hg38                                                                     100047794.0\n",
       "End_hg38                                                                       100047796.0\n",
       "Strand_hg38                                                                              +\n",
       "ch                                                                                     3.0\n",
       "g                                                                             3099766639.0\n",
       "Name: cg00129234, dtype: object"
      ]
     },
     "execution_count": 56,
     "metadata": {},
     "output_type": "execute_result"
    }
   ],
   "source": [
    "epic.loc['cg00129234']"
   ]
  },
  {
   "cell_type": "code",
   "execution_count": null,
   "metadata": {},
   "outputs": [],
   "source": []
  }
 ],
 "metadata": {
  "kernelspec": {
   "display_name": "Python 3",
   "language": "python",
   "name": "python3"
  },
  "language_info": {
   "codemirror_mode": {
    "name": "ipython",
    "version": 3
   },
   "file_extension": ".py",
   "mimetype": "text/x-python",
   "name": "python",
   "nbconvert_exporter": "python",
   "pygments_lexer": "ipython3",
   "version": "3.7.7"
  }
 },
 "nbformat": 4,
 "nbformat_minor": 4
}
