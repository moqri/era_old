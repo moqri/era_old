{
 "cells": [
  {
   "cell_type": "code",
   "execution_count": 103,
   "metadata": {},
   "outputs": [],
   "source": [
    "data='../data/'\n",
    "rep='ftp://ftp.ncbi.nlm.nih.gov/geo/series/GSE142nnn/age/matrix//GSE142439_series_matrix.txt.gz'\n",
    "epic_man='https://webdata.illumina.com/downloads/productfiles/methylationEPIC/infinium-methylationepic-v-1-0-b5-manifest-file-csv.zip'\n",
    "horvath='https://static-content.springer.com/esm/art%3A10.1186%2Fgb-2013-14-10-r115/MediaObjects/13059_2013_3156_MOESM3_ESM.csv'\n",
    "fib_age='https://static-content.springer.com/esm/art%3A10.1038%2Fs41467-020-15174-3/MediaObjects/41467_2020_15174_MOESM5_ESM.xlsx'\n",
    "fib_treat='https://static-content.springer.com/esm/art%3A10.1038%2Fs41467-020-15174-3/MediaObjects/41467_2020_15174_MOESM9_ESM.xlsx'\n",
    "import pandas as pd\n",
    "import matplotlib.pyplot as plt\n",
    "import seaborn as sns\n",
    "import numpy as np"
   ]
  },
  {
   "cell_type": "code",
   "execution_count": 104,
   "metadata": {},
   "outputs": [],
   "source": [
    "!wget -q -nc {rep} -O {data}\\rep.txt.gz\n",
    "!wget -q -nc {epic_man} -O {data}\\epic.csv.zip\n",
    "!wget -q -nc {horvath} -O {data}\\horvath.csv"
   ]
  },
  {
   "cell_type": "code",
   "execution_count": 105,
   "metadata": {},
   "outputs": [
    {
     "data": {
      "text/html": [
       "<div>\n",
       "<style scoped>\n",
       "    .dataframe tbody tr th:only-of-type {\n",
       "        vertical-align: middle;\n",
       "    }\n",
       "\n",
       "    .dataframe tbody tr th {\n",
       "        vertical-align: top;\n",
       "    }\n",
       "\n",
       "    .dataframe thead th {\n",
       "        text-align: right;\n",
       "    }\n",
       "</style>\n",
       "<table border=\"1\" class=\"dataframe\">\n",
       "  <thead>\n",
       "    <tr style=\"text-align: right;\">\n",
       "      <th></th>\n",
       "      <th>GSM4227385</th>\n",
       "      <th>GSM4227386</th>\n",
       "      <th>GSM4227387</th>\n",
       "      <th>GSM4227388</th>\n",
       "      <th>GSM4227389</th>\n",
       "      <th>GSM4227390</th>\n",
       "      <th>GSM4227391</th>\n",
       "      <th>GSM4227392</th>\n",
       "      <th>GSM4227393</th>\n",
       "      <th>GSM4227394</th>\n",
       "      <th>GSM4227395</th>\n",
       "      <th>GSM4227396</th>\n",
       "      <th>GSM4227397</th>\n",
       "      <th>GSM4227398</th>\n",
       "      <th>GSM4227399</th>\n",
       "      <th>GSM4227400</th>\n",
       "    </tr>\n",
       "  </thead>\n",
       "  <tbody>\n",
       "    <tr>\n",
       "      <th>age</th>\n",
       "      <td>61</td>\n",
       "      <td>61</td>\n",
       "      <td>61</td>\n",
       "      <td>61</td>\n",
       "      <td>69</td>\n",
       "      <td>69</td>\n",
       "      <td>67</td>\n",
       "      <td>67</td>\n",
       "      <td>48</td>\n",
       "      <td>48</td>\n",
       "      <td>47</td>\n",
       "      <td>47</td>\n",
       "      <td>49</td>\n",
       "      <td>49</td>\n",
       "      <td>49</td>\n",
       "      <td>49</td>\n",
       "    </tr>\n",
       "    <tr>\n",
       "      <th>cell</th>\n",
       "      <td>skin</td>\n",
       "      <td>skin</td>\n",
       "      <td>skin</td>\n",
       "      <td>skin</td>\n",
       "      <td>skin</td>\n",
       "      <td>skin</td>\n",
       "      <td>skin</td>\n",
       "      <td>skin</td>\n",
       "      <td>vein</td>\n",
       "      <td>vein</td>\n",
       "      <td>vein</td>\n",
       "      <td>vein</td>\n",
       "      <td>vein</td>\n",
       "      <td>vein</td>\n",
       "      <td>vein</td>\n",
       "      <td>vein</td>\n",
       "    </tr>\n",
       "    <tr>\n",
       "      <th>treatment</th>\n",
       "      <td>Normal</td>\n",
       "      <td>Treated</td>\n",
       "      <td>Normal</td>\n",
       "      <td>Treated</td>\n",
       "      <td>Normal</td>\n",
       "      <td>Treated</td>\n",
       "      <td>Normal</td>\n",
       "      <td>Treated</td>\n",
       "      <td>Normal</td>\n",
       "      <td>Treated</td>\n",
       "      <td>Normal</td>\n",
       "      <td>Treated</td>\n",
       "      <td>Normal</td>\n",
       "      <td>Treated</td>\n",
       "      <td>Normal</td>\n",
       "      <td>Treated</td>\n",
       "    </tr>\n",
       "    <tr>\n",
       "      <th>t</th>\n",
       "      <td>1</td>\n",
       "      <td>0</td>\n",
       "      <td>1</td>\n",
       "      <td>0</td>\n",
       "      <td>1</td>\n",
       "      <td>0</td>\n",
       "      <td>1</td>\n",
       "      <td>0</td>\n",
       "      <td>1</td>\n",
       "      <td>0</td>\n",
       "      <td>1</td>\n",
       "      <td>0</td>\n",
       "      <td>1</td>\n",
       "      <td>0</td>\n",
       "      <td>1</td>\n",
       "      <td>0</td>\n",
       "    </tr>\n",
       "  </tbody>\n",
       "</table>\n",
       "</div>"
      ],
      "text/plain": [
       "          GSM4227385 GSM4227386 GSM4227387 GSM4227388 GSM4227389 GSM4227390  \\\n",
       "age               61         61         61         61         69         69   \n",
       "cell            skin       skin       skin       skin       skin       skin   \n",
       "treatment     Normal    Treated     Normal    Treated     Normal    Treated   \n",
       "t                  1          0          1          0          1          0   \n",
       "\n",
       "          GSM4227391 GSM4227392 GSM4227393 GSM4227394 GSM4227395 GSM4227396  \\\n",
       "age               67         67         48         48         47         47   \n",
       "cell            skin       skin       vein       vein       vein       vein   \n",
       "treatment     Normal    Treated     Normal    Treated     Normal    Treated   \n",
       "t                  1          0          1          0          1          0   \n",
       "\n",
       "          GSM4227397 GSM4227398 GSM4227399 GSM4227400  \n",
       "age               49         49         49         49  \n",
       "cell            vein       vein       vein       vein  \n",
       "treatment     Normal    Treated     Normal    Treated  \n",
       "t                  1          0          1          0  "
      ]
     },
     "execution_count": 105,
     "metadata": {},
     "output_type": "execute_result"
    }
   ],
   "source": [
    "df=pd.read_csv(data+'rep.txt.gz',sep='\\t',skiprows=71,index_col=0) # methylation data starts from line 71\n",
    "df=df.drop('!series_matrix_table_end')\n",
    "meta=pd.read_csv(data+'rep.txt.gz',sep='\\t',skiprows=40,index_col=0,nrows=3) # meta data starts from line 40\n",
    "meta.columns=df.columns\n",
    "meta.index=['age','cell','treatment']\n",
    "meta=meta.T\n",
    "meta['age']=meta.age.str.strip('age: ')\n",
    "meta['cell']=meta.cell.str.strip('cell type: ')\n",
    "meta['treatment']=meta.treatment.str.strip('treatmentstatus: ')\n",
    "meta['t']=meta.treatment.apply(lambda x: 1 if x=='Normal' else 0)\n",
    "meta['cell']=meta.cell.apply(lambda x: 'skin' if x=='skin fibroblasts' else 'vein')\n",
    "meta.T"
   ]
  },
  {
   "cell_type": "code",
   "execution_count": 106,
   "metadata": {},
   "outputs": [],
   "source": [
    "df[meta[(meta.cell=='skin')].index].round(2).to_csv(data+'meth.csv')"
   ]
  },
  {
   "cell_type": "code",
   "execution_count": 107,
   "metadata": {},
   "outputs": [
    {
     "data": {
      "text/html": [
       "<div>\n",
       "<style scoped>\n",
       "    .dataframe tbody tr th:only-of-type {\n",
       "        vertical-align: middle;\n",
       "    }\n",
       "\n",
       "    .dataframe tbody tr th {\n",
       "        vertical-align: top;\n",
       "    }\n",
       "\n",
       "    .dataframe thead th {\n",
       "        text-align: right;\n",
       "    }\n",
       "</style>\n",
       "<table border=\"1\" class=\"dataframe\">\n",
       "  <thead>\n",
       "    <tr style=\"text-align: right;\">\n",
       "      <th></th>\n",
       "      <th>GSM4227385</th>\n",
       "      <th>GSM4227386</th>\n",
       "      <th>GSM4227387</th>\n",
       "      <th>GSM4227388</th>\n",
       "      <th>GSM4227389</th>\n",
       "      <th>GSM4227390</th>\n",
       "      <th>GSM4227391</th>\n",
       "      <th>GSM4227392</th>\n",
       "      <th>GSM4227393</th>\n",
       "      <th>GSM4227394</th>\n",
       "      <th>...</th>\n",
       "      <th>GSM4227397</th>\n",
       "      <th>GSM4227398</th>\n",
       "      <th>GSM4227399</th>\n",
       "      <th>GSM4227400</th>\n",
       "      <th>skin_normal</th>\n",
       "      <th>skin_treated</th>\n",
       "      <th>skin_dif</th>\n",
       "      <th>vein_normal</th>\n",
       "      <th>vein_treated</th>\n",
       "      <th>vein_dif</th>\n",
       "    </tr>\n",
       "    <tr>\n",
       "      <th>ID_REF</th>\n",
       "      <th></th>\n",
       "      <th></th>\n",
       "      <th></th>\n",
       "      <th></th>\n",
       "      <th></th>\n",
       "      <th></th>\n",
       "      <th></th>\n",
       "      <th></th>\n",
       "      <th></th>\n",
       "      <th></th>\n",
       "      <th></th>\n",
       "      <th></th>\n",
       "      <th></th>\n",
       "      <th></th>\n",
       "      <th></th>\n",
       "      <th></th>\n",
       "      <th></th>\n",
       "      <th></th>\n",
       "      <th></th>\n",
       "      <th></th>\n",
       "      <th></th>\n",
       "    </tr>\n",
       "  </thead>\n",
       "  <tbody>\n",
       "    <tr>\n",
       "      <th>cg00000029</th>\n",
       "      <td>0.192582</td>\n",
       "      <td>0.22964</td>\n",
       "      <td>0.084506</td>\n",
       "      <td>0.102028</td>\n",
       "      <td>0.202294</td>\n",
       "      <td>0.170894</td>\n",
       "      <td>0.185225</td>\n",
       "      <td>0.229188</td>\n",
       "      <td>0.19241</td>\n",
       "      <td>0.152512</td>\n",
       "      <td>...</td>\n",
       "      <td>0.358765</td>\n",
       "      <td>0.366739</td>\n",
       "      <td>0.446669</td>\n",
       "      <td>0.433033</td>\n",
       "      <td>0.166152</td>\n",
       "      <td>0.182937</td>\n",
       "      <td>0.016786</td>\n",
       "      <td>0.451154</td>\n",
       "      <td>0.454321</td>\n",
       "      <td>0.003167</td>\n",
       "    </tr>\n",
       "  </tbody>\n",
       "</table>\n",
       "<p>1 rows × 22 columns</p>\n",
       "</div>"
      ],
      "text/plain": [
       "            GSM4227385  GSM4227386  GSM4227387  GSM4227388  GSM4227389  \\\n",
       "ID_REF                                                                   \n",
       "cg00000029    0.192582     0.22964    0.084506    0.102028    0.202294   \n",
       "\n",
       "            GSM4227390  GSM4227391  GSM4227392  GSM4227393  GSM4227394  ...  \\\n",
       "ID_REF                                                                  ...   \n",
       "cg00000029    0.170894    0.185225    0.229188     0.19241    0.152512  ...   \n",
       "\n",
       "            GSM4227397  GSM4227398  GSM4227399  GSM4227400  skin_normal  \\\n",
       "ID_REF                                                                    \n",
       "cg00000029    0.358765    0.366739    0.446669    0.433033     0.166152   \n",
       "\n",
       "            skin_treated  skin_dif  vein_normal  vein_treated  vein_dif  \n",
       "ID_REF                                                                   \n",
       "cg00000029      0.182937  0.016786     0.451154      0.454321  0.003167  \n",
       "\n",
       "[1 rows x 22 columns]"
      ]
     },
     "execution_count": 107,
     "metadata": {},
     "output_type": "execute_result"
    }
   ],
   "source": [
    "for tissue in ['skin','vein']:\n",
    "    df[tissue+'_normal']=df[meta[(meta.cell==tissue)&(meta.treatment=='Normal')].index].mean(1)\n",
    "    df[tissue+'_treated']=df[meta[(meta.cell==tissue)&(meta.treatment=='Treated')].index].mean(1)\n",
    "    df[tissue+'_dif']=df[tissue+'_treated']-df[tissue+'_normal']\n",
    "df.head(1)"
   ]
  },
  {
   "cell_type": "code",
   "execution_count": 108,
   "metadata": {},
   "outputs": [
    {
     "data": {
      "text/plain": [
       "<AxesSubplot:>"
      ]
     },
     "execution_count": 108,
     "metadata": {},
     "output_type": "execute_result"
    },
    {
     "data": {
      "image/png": "[encoded data removed]",
      "text/plain": [
       "<Figure size 432x288 with 1 Axes>"
      ]
     },
     "metadata": {
      "needs_background": "light"
     },
     "output_type": "display_data"
    }
   ],
   "source": [
    "df.skin_dif.hist(bins=100)"
   ]
  },
  {
   "cell_type": "code",
   "execution_count": 159,
   "metadata": {},
   "outputs": [
    {
     "data": {
      "text/plain": [
       "<AxesSubplot:>"
      ]
     },
     "execution_count": 159,
     "metadata": {},
     "output_type": "execute_result"
    },
    {
     "data": {
      "image/png": "[encoded data removed]",
      "text/plain": [
       "<Figure size 432x288 with 1 Axes>"
      ]
     },
     "metadata": {
      "needs_background": "light"
     },
     "output_type": "display_data"
    }
   ],
   "source": [
    "df.vein_dif.hist(bins=100)"
   ]
  },
  {
   "cell_type": "code",
   "execution_count": 109,
   "metadata": {},
   "outputs": [
    {
     "name": "stderr",
     "output_type": "stream",
     "text": [
      "/Users/mahdimoqri/miniconda3/lib/python3.7/site-packages/IPython/core/interactiveshell.py:3072: DtypeWarning: Columns (2,4,42,47) have mixed types.Specify dtype option on import or set low_memory=False.\n",
      "  interactivity=interactivity, compiler=compiler, result=result)\n"
     ]
    },
    {
     "data": {
      "text/plain": [
       "(846232, 53)"
      ]
     },
     "execution_count": 109,
     "metadata": {},
     "output_type": "execute_result"
    }
   ],
   "source": [
    "epic=pd.read_csv(data+'epic.csv.zip',skiprows=7,index_col=0) # data starts from line 7\n",
    "epic['Relation_to_UCSC_CpG_Island']=epic.Relation_to_UCSC_CpG_Island.fillna('Open Sea')\n",
    "epic['450k_Enhancer']=epic['450k_Enhancer'].fillna('False')\n",
    "epic=epic.replace({'Relation_to_UCSC_CpG_Island': {'N_Shore': 'Shore or Shelf', 'S_Shore': 'Shore or Shelf','N_Shelf':'Shore or Shelf',\n",
    "                                              'S_Shelf':'Shore or Shelf'}})\n",
    "epic['ch']=pd.to_numeric(epic.CHR,errors='coerce')\n",
    "epic = epic[epic['ch'].notna()]\n",
    "epic['g']=epic.ch*10**9+epic['MAPINFO']\n",
    "epic.shape"
   ]
  },
  {
   "cell_type": "code",
   "execution_count": 110,
   "metadata": {},
   "outputs": [],
   "source": [
    "df=df.merge(epic,left_index=True,right_index=True)"
   ]
  },
  {
   "cell_type": "code",
   "execution_count": 210,
   "metadata": {},
   "outputs": [
    {
     "data": {
      "text/plain": [
       "(159, 75)"
      ]
     },
     "execution_count": 210,
     "metadata": {},
     "output_type": "execute_result"
    }
   ],
   "source": [
    "dg=df[np.abs(df.skin_dif)>.4]\n",
    "dg.shape"
   ]
  },
  {
   "cell_type": "code",
   "execution_count": 212,
   "metadata": {},
   "outputs": [],
   "source": [
    "skins=dg.index"
   ]
  },
  {
   "cell_type": "code",
   "execution_count": 213,
   "metadata": {},
   "outputs": [
    {
     "data": {
      "text/plain": [
       "(209, 75)"
      ]
     },
     "execution_count": 213,
     "metadata": {},
     "output_type": "execute_result"
    }
   ],
   "source": [
    "dg=df[np.abs(df.vein_dif)>.3]\n",
    "dg.shape"
   ]
  },
  {
   "cell_type": "code",
   "execution_count": 214,
   "metadata": {},
   "outputs": [],
   "source": [
    "veins=dg.index"
   ]
  },
  {
   "cell_type": "code",
   "execution_count": 222,
   "metadata": {},
   "outputs": [],
   "source": [
    "dg=dg.loc[skins.intersection(veins)]"
   ]
  },
  {
   "cell_type": "code",
   "execution_count": 232,
   "metadata": {},
   "outputs": [
    {
     "data": {
      "text/plain": [
       "array([[<AxesSubplot:title={'center':'skin_normal'}>,\n",
       "        <AxesSubplot:title={'center':'vein_normal'}>]], dtype=object)"
      ]
     },
     "execution_count": 232,
     "metadata": {},
     "output_type": "execute_result"
    },
    {
     "data": {
      "image/png": "[encoded data removed]",
      "text/plain": [
       "<Figure size 432x288 with 2 Axes>"
      ]
     },
     "metadata": {
      "needs_background": "light"
     },
     "output_type": "display_data"
    }
   ],
   "source": [
    "dg[['skin_normal','vein_normal']].hist()"
   ]
  },
  {
   "cell_type": "code",
   "execution_count": 233,
   "metadata": {},
   "outputs": [
    {
     "data": {
      "text/plain": [
       "array([[<AxesSubplot:title={'center':'skin_treated'}>,\n",
       "        <AxesSubplot:title={'center':'vein_treated'}>]], dtype=object)"
      ]
     },
     "execution_count": 233,
     "metadata": {},
     "output_type": "execute_result"
    },
    {
     "data": {
      "image/png": "[encoded data removed]",
      "text/plain": [
       "<Figure size 432x288 with 2 Axes>"
      ]
     },
     "metadata": {
      "needs_background": "light"
     },
     "output_type": "display_data"
    }
   ],
   "source": [
    "dg[['skin_treated','vein_treated']].hist()"
   ]
  },
  {
   "cell_type": "code",
   "execution_count": 263,
   "metadata": {},
   "outputs": [],
   "source": [
    "iPS_HDF51IPS1=pd.read_csv(data+'GSM867967-13307.txt',sep='\\t',skiprows=3,index_col=0)\n",
    "iPS_HDF51IPS14=pd.read_csv(data+'GSM867989-13329.txt',sep='\\t',skiprows=3,index_col=0)"
   ]
  },
  {
   "cell_type": "code",
   "execution_count": 264,
   "metadata": {},
   "outputs": [
    {
     "data": {
      "text/html": [
       "<div>\n",
       "<style scoped>\n",
       "    .dataframe tbody tr th:only-of-type {\n",
       "        vertical-align: middle;\n",
       "    }\n",
       "\n",
       "    .dataframe tbody tr th {\n",
       "        vertical-align: top;\n",
       "    }\n",
       "\n",
       "    .dataframe thead th {\n",
       "        text-align: right;\n",
       "    }\n",
       "</style>\n",
       "<table border=\"1\" class=\"dataframe\">\n",
       "  <thead>\n",
       "    <tr style=\"text-align: right;\">\n",
       "      <th></th>\n",
       "      <th>VALUE</th>\n",
       "      <th>iPS__HDF51IPS14_passage27_Female____165.592.1.2.Detection Pval</th>\n",
       "    </tr>\n",
       "  </thead>\n",
       "  <tbody>\n",
       "    <tr>\n",
       "      <th>cg00320765</th>\n",
       "      <td>0.118318</td>\n",
       "      <td>0.0</td>\n",
       "    </tr>\n",
       "    <tr>\n",
       "      <th>cg03407966</th>\n",
       "      <td>0.809761</td>\n",
       "      <td>0.0</td>\n",
       "    </tr>\n",
       "    <tr>\n",
       "      <th>cg03967533</th>\n",
       "      <td>0.539521</td>\n",
       "      <td>0.0</td>\n",
       "    </tr>\n",
       "    <tr>\n",
       "      <th>cg04333296</th>\n",
       "      <td>0.687367</td>\n",
       "      <td>0.0</td>\n",
       "    </tr>\n",
       "    <tr>\n",
       "      <th>cg05029312</th>\n",
       "      <td>0.675243</td>\n",
       "      <td>0.0</td>\n",
       "    </tr>\n",
       "    <tr>\n",
       "      <th>cg07403374</th>\n",
       "      <td>0.347631</td>\n",
       "      <td>0.0</td>\n",
       "    </tr>\n",
       "    <tr>\n",
       "      <th>cg08700083</th>\n",
       "      <td>0.604170</td>\n",
       "      <td>0.0</td>\n",
       "    </tr>\n",
       "    <tr>\n",
       "      <th>cg09032791</th>\n",
       "      <td>0.838994</td>\n",
       "      <td>0.0</td>\n",
       "    </tr>\n",
       "    <tr>\n",
       "      <th>cg10122230</th>\n",
       "      <td>0.726568</td>\n",
       "      <td>0.0</td>\n",
       "    </tr>\n",
       "    <tr>\n",
       "      <th>cg17130544</th>\n",
       "      <td>0.838062</td>\n",
       "      <td>0.0</td>\n",
       "    </tr>\n",
       "    <tr>\n",
       "      <th>cg19275008</th>\n",
       "      <td>0.101029</td>\n",
       "      <td>0.0</td>\n",
       "    </tr>\n",
       "    <tr>\n",
       "      <th>cg21229718</th>\n",
       "      <td>0.839126</td>\n",
       "      <td>0.0</td>\n",
       "    </tr>\n",
       "  </tbody>\n",
       "</table>\n",
       "</div>"
      ],
      "text/plain": [
       "               VALUE  \\\n",
       "cg00320765  0.118318   \n",
       "cg03407966  0.809761   \n",
       "cg03967533  0.539521   \n",
       "cg04333296  0.687367   \n",
       "cg05029312  0.675243   \n",
       "cg07403374  0.347631   \n",
       "cg08700083  0.604170   \n",
       "cg09032791  0.838994   \n",
       "cg10122230  0.726568   \n",
       "cg17130544  0.838062   \n",
       "cg19275008  0.101029   \n",
       "cg21229718  0.839126   \n",
       "\n",
       "            iPS__HDF51IPS14_passage27_Female____165.592.1.2.Detection Pval  \n",
       "cg00320765                                                0.0               \n",
       "cg03407966                                                0.0               \n",
       "cg03967533                                                0.0               \n",
       "cg04333296                                                0.0               \n",
       "cg05029312                                                0.0               \n",
       "cg07403374                                                0.0               \n",
       "cg08700083                                                0.0               \n",
       "cg09032791                                                0.0               \n",
       "cg10122230                                                0.0               \n",
       "cg17130544                                                0.0               \n",
       "cg19275008                                                0.0               \n",
       "cg21229718                                                0.0               "
      ]
     },
     "execution_count": 264,
     "metadata": {},
     "output_type": "execute_result"
    }
   ],
   "source": [
    "iPS_HDF51IPS14.loc[iPS_HDF51IPS1.index.intersection(dg.index)]"
   ]
  },
  {
   "cell_type": "code",
   "execution_count": 262,
   "metadata": {},
   "outputs": [
    {
     "data": {
      "text/html": [
       "<div>\n",
       "<style scoped>\n",
       "    .dataframe tbody tr th:only-of-type {\n",
       "        vertical-align: middle;\n",
       "    }\n",
       "\n",
       "    .dataframe tbody tr th {\n",
       "        vertical-align: top;\n",
       "    }\n",
       "\n",
       "    .dataframe thead th {\n",
       "        text-align: right;\n",
       "    }\n",
       "</style>\n",
       "<table border=\"1\" class=\"dataframe\">\n",
       "  <thead>\n",
       "    <tr style=\"text-align: right;\">\n",
       "      <th></th>\n",
       "      <th>VALUE</th>\n",
       "      <th>iPS__HDF51IPS1_passage6_Female____153.437.1.1.Detection Pval</th>\n",
       "    </tr>\n",
       "  </thead>\n",
       "  <tbody>\n",
       "    <tr>\n",
       "      <th>cg00320765</th>\n",
       "      <td>0.119161</td>\n",
       "      <td>0.0</td>\n",
       "    </tr>\n",
       "    <tr>\n",
       "      <th>cg03407966</th>\n",
       "      <td>0.854669</td>\n",
       "      <td>0.0</td>\n",
       "    </tr>\n",
       "    <tr>\n",
       "      <th>cg03967533</th>\n",
       "      <td>0.663436</td>\n",
       "      <td>0.0</td>\n",
       "    </tr>\n",
       "    <tr>\n",
       "      <th>cg04333296</th>\n",
       "      <td>0.529779</td>\n",
       "      <td>0.0</td>\n",
       "    </tr>\n",
       "    <tr>\n",
       "      <th>cg05029312</th>\n",
       "      <td>0.646894</td>\n",
       "      <td>0.0</td>\n",
       "    </tr>\n",
       "    <tr>\n",
       "      <th>cg07403374</th>\n",
       "      <td>0.250078</td>\n",
       "      <td>0.0</td>\n",
       "    </tr>\n",
       "    <tr>\n",
       "      <th>cg08700083</th>\n",
       "      <td>0.636647</td>\n",
       "      <td>0.0</td>\n",
       "    </tr>\n",
       "    <tr>\n",
       "      <th>cg09032791</th>\n",
       "      <td>0.582295</td>\n",
       "      <td>0.0</td>\n",
       "    </tr>\n",
       "    <tr>\n",
       "      <th>cg10122230</th>\n",
       "      <td>0.648473</td>\n",
       "      <td>0.0</td>\n",
       "    </tr>\n",
       "    <tr>\n",
       "      <th>cg17130544</th>\n",
       "      <td>0.836843</td>\n",
       "      <td>0.0</td>\n",
       "    </tr>\n",
       "    <tr>\n",
       "      <th>cg19275008</th>\n",
       "      <td>0.048982</td>\n",
       "      <td>0.0</td>\n",
       "    </tr>\n",
       "    <tr>\n",
       "      <th>cg21229718</th>\n",
       "      <td>0.853315</td>\n",
       "      <td>0.0</td>\n",
       "    </tr>\n",
       "  </tbody>\n",
       "</table>\n",
       "</div>"
      ],
      "text/plain": [
       "               VALUE  \\\n",
       "cg00320765  0.119161   \n",
       "cg03407966  0.854669   \n",
       "cg03967533  0.663436   \n",
       "cg04333296  0.529779   \n",
       "cg05029312  0.646894   \n",
       "cg07403374  0.250078   \n",
       "cg08700083  0.636647   \n",
       "cg09032791  0.582295   \n",
       "cg10122230  0.648473   \n",
       "cg17130544  0.836843   \n",
       "cg19275008  0.048982   \n",
       "cg21229718  0.853315   \n",
       "\n",
       "            iPS__HDF51IPS1_passage6_Female____153.437.1.1.Detection Pval  \n",
       "cg00320765                                                0.0             \n",
       "cg03407966                                                0.0             \n",
       "cg03967533                                                0.0             \n",
       "cg04333296                                                0.0             \n",
       "cg05029312                                                0.0             \n",
       "cg07403374                                                0.0             \n",
       "cg08700083                                                0.0             \n",
       "cg09032791                                                0.0             \n",
       "cg10122230                                                0.0             \n",
       "cg17130544                                                0.0             \n",
       "cg19275008                                                0.0             \n",
       "cg21229718                                                0.0             "
      ]
     },
     "execution_count": 262,
     "metadata": {},
     "output_type": "execute_result"
    }
   ],
   "source": [
    "iPS_HDF51IPS1.loc[iPS_HDF51IPS1.index.intersection(dg.index)]"
   ]
  },
  {
   "cell_type": "code",
   "execution_count": 223,
   "metadata": {},
   "outputs": [
    {
     "name": "stderr",
     "output_type": "stream",
     "text": [
      "/Users/mahdimoqri/miniconda3/lib/python3.7/site-packages/ipykernel_launcher.py:2: SettingWithCopyWarning: \n",
      "A value is trying to be set on a copy of a slice from a DataFrame.\n",
      "Try using .loc[row_indexer,col_indexer] = value instead\n",
      "\n",
      "See the caveats in the documentation: https://pandas.pydata.org/pandas-docs/stable/user_guide/indexing.html#returning-a-view-versus-a-copy\n",
      "  \n",
      "/Users/mahdimoqri/miniconda3/lib/python3.7/site-packages/ipykernel_launcher.py:3: SettingWithCopyWarning: \n",
      "A value is trying to be set on a copy of a slice from a DataFrame.\n",
      "Try using .loc[row_indexer,col_indexer] = value instead\n",
      "\n",
      "See the caveats in the documentation: https://pandas.pydata.org/pandas-docs/stable/user_guide/indexing.html#returning-a-view-versus-a-copy\n",
      "  This is separate from the ipykernel package so we can avoid doing imports until\n"
     ]
    },
    {
     "data": {
      "text/html": [
       "<div>\n",
       "<style scoped>\n",
       "    .dataframe tbody tr th:only-of-type {\n",
       "        vertical-align: middle;\n",
       "    }\n",
       "\n",
       "    .dataframe tbody tr th {\n",
       "        vertical-align: top;\n",
       "    }\n",
       "\n",
       "    .dataframe thead th {\n",
       "        text-align: right;\n",
       "    }\n",
       "</style>\n",
       "<table border=\"1\" class=\"dataframe\">\n",
       "  <thead>\n",
       "    <tr style=\"text-align: right;\">\n",
       "      <th></th>\n",
       "      <th>CHR_hg38</th>\n",
       "      <th>Start_hg38</th>\n",
       "      <th>End_hg38</th>\n",
       "      <th>Strand_hg38</th>\n",
       "    </tr>\n",
       "  </thead>\n",
       "  <tbody>\n",
       "    <tr>\n",
       "      <th>0</th>\n",
       "      <td>chr2</td>\n",
       "      <td>135168438</td>\n",
       "      <td>135168440</td>\n",
       "      <td>+</td>\n",
       "    </tr>\n",
       "  </tbody>\n",
       "</table>\n",
       "</div>"
      ],
      "text/plain": [
       "  CHR_hg38  Start_hg38   End_hg38 Strand_hg38\n",
       "0     chr2   135168438  135168440           +"
      ]
     },
     "execution_count": 223,
     "metadata": {},
     "output_type": "execute_result"
    }
   ],
   "source": [
    "dgh=dg[['CHR_hg38','Start_hg38','End_hg38','Strand_hg38']]\n",
    "dgh['Start_hg38']=dgh.Start_hg38.astype(int)\n",
    "dgh['End_hg38']=dgh.End_hg38.astype(int)\n",
    "dgh.reset_index(inplace=True,drop=True)\n",
    "dgh.to_csv(data+'dmh.txt',sep='\\t')\n",
    "dgh.head(1)"
   ]
  },
  {
   "cell_type": "code",
   "execution_count": 226,
   "metadata": {},
   "outputs": [
    {
     "data": {
      "text/plain": [
       "Text(0, 0.5, 'Treatment effect (treated - normal) ')"
      ]
     },
     "execution_count": 226,
     "metadata": {},
     "output_type": "execute_result"
    },
    {
     "data": {
      "image/png": "[encoded data removed]",
      "text/plain": [
       "<Figure size 432x288 with 1 Axes>"
      ]
     },
     "metadata": {
      "needs_background": "light"
     },
     "output_type": "display_data"
    }
   ],
   "source": [
    "sns.stripplot(data=dg,x='Relation_to_UCSC_CpG_Island',y='vein_dif')\n",
    "plt.title('CpG distribution', fontsize=18)\n",
    "plt.xlabel('CpG location', fontsize=14)\n",
    "plt.ylabel('Treatment effect (treated - normal) ', fontsize=14)"
   ]
  },
  {
   "cell_type": "code",
   "execution_count": 166,
   "metadata": {},
   "outputs": [
    {
     "data": {
      "text/plain": [
       "Text(0, 0.5, 'Percentage of CpGs')"
      ]
     },
     "execution_count": 166,
     "metadata": {},
     "output_type": "execute_result"
    },
    {
     "data": {
      "image/png": "[encoded data removed]",
      "text/plain": [
       "<Figure size 432x288 with 1 Axes>"
      ]
     },
     "metadata": {
      "needs_background": "light"
     },
     "output_type": "display_data"
    }
   ],
   "source": [
    "epic_count=epic['Relation_to_UCSC_CpG_Island'].value_counts()/len(epic)*100\n",
    "dg_count=dg['Relation_to_UCSC_CpG_Island'].value_counts()/len(dg)*100\n",
    "cgi=pd.concat([epic_count, dg_count], axis=1)\n",
    "cgi.columns=['All CpGs','DMCpGs']\n",
    "cgi.plot(kind='bar')\n",
    "plt.title('CGI vs Open Sea Enrichment', fontsize=16)\n",
    "plt.xlabel('CpG location', fontsize=14)\n",
    "plt.ylabel('Percentage of CpGs', fontsize=14)"
   ]
  },
  {
   "cell_type": "code",
   "execution_count": 167,
   "metadata": {},
   "outputs": [
    {
     "data": {
      "text/plain": [
       "Text(0, 0.5, 'Percentage of CpGs')"
      ]
     },
     "execution_count": 167,
     "metadata": {},
     "output_type": "execute_result"
    },
    {
     "data": {
      "image/png": "[encoded data removed]",
      "text/plain": [
       "<Figure size 432x288 with 1 Axes>"
      ]
     },
     "metadata": {
      "needs_background": "light"
     },
     "output_type": "display_data"
    }
   ],
   "source": [
    "epic_count=epic['450k_Enhancer'].value_counts()/len(epic)*100\n",
    "dg_count=dg['450k_Enhancer'].value_counts()/len(dg)*100\n",
    "enhancer=pd.concat([epic_count, dg_count], axis=1)\n",
    "enhancer.columns=['All CpGs','DMCpGs']\n",
    "enhancer.index=['Not Enhancer','Enhancer']\n",
    "enhancer.plot(kind='bar')\n",
    "plt.title('All Enahancers', fontsize=16)\n",
    "plt.xlabel('CpG location', fontsize=14)\n",
    "plt.ylabel('Percentage of CpGs', fontsize=14)"
   ]
  },
  {
   "cell_type": "code",
   "execution_count": 157,
   "metadata": {},
   "outputs": [
    {
     "data": {
      "text/plain": [
       "(40449, 4)"
      ]
     },
     "execution_count": 157,
     "metadata": {},
     "output_type": "execute_result"
    }
   ],
   "source": [
    "bed='http://www.enhanceratlas.org/data/download/enhancer/hs/HSC.bed'\n",
    "bed='http://www.enhanceratlas.org/data/download/enhancer/hs/Fibroblast_foreskin.bed'\n",
    "enh=pd.read_csv(bed,sep='\\t',header=None)\n",
    "enh.shape"
   ]
  },
  {
   "cell_type": "code",
   "execution_count": 86,
   "metadata": {},
   "outputs": [],
   "source": [
    "enh['ch']=enh[0].str.strip('chr')\n",
    "enh['ch']=pd.to_numeric(enh.ch,errors='coerce')\n",
    "enh=enh.dropna()\n",
    "enh['gs']=(enh.ch*10**9+enh[1]).astype(int)\n",
    "enh['ge']=(enh.ch*10**9+enh[2]).astype(int)"
   ]
  },
  {
   "cell_type": "code",
   "execution_count": 88,
   "metadata": {},
   "outputs": [
    {
     "name": "stderr",
     "output_type": "stream",
     "text": [
      "/Users/mahdimoqri/miniconda3/lib/python3.7/site-packages/ipykernel_launcher.py:6: SettingWithCopyWarning: \n",
      "A value is trying to be set on a copy of a slice from a DataFrame.\n",
      "Try using .loc[row_indexer,col_indexer] = value instead\n",
      "\n",
      "See the caveats in the documentation: https://pandas.pydata.org/pandas-docs/stable/user_guide/indexing.html#returning-a-view-versus-a-copy\n",
      "  \n"
     ]
    }
   ],
   "source": [
    "a=[]\n",
    "for i,row in enh.iterrows():\n",
    "    a.append(list(range(row['gs'],row['ge'])))\n",
    "a=set().union(*a)\n",
    "epic['enh']=epic.g.apply(lambda v: v in a)\n",
    "dg['enh']=dg.g.apply(lambda v: v in a)"
   ]
  },
  {
   "cell_type": "code",
   "execution_count": 89,
   "metadata": {},
   "outputs": [
    {
     "data": {
      "text/plain": [
       "False    0.903138\n",
       "True     0.096862\n",
       "Name: enh, dtype: float64"
      ]
     },
     "execution_count": 89,
     "metadata": {},
     "output_type": "execute_result"
    }
   ],
   "source": [
    "epic.enh.value_counts()/len(epic)"
   ]
  },
  {
   "cell_type": "code",
   "execution_count": 90,
   "metadata": {},
   "outputs": [
    {
     "data": {
      "text/plain": [
       "False    0.835924\n",
       "True     0.164076\n",
       "Name: enh, dtype: float64"
      ]
     },
     "execution_count": 90,
     "metadata": {},
     "output_type": "execute_result"
    }
   ],
   "source": [
    "dg.enh.value_counts()/len(dg)"
   ]
  },
  {
   "cell_type": "code",
   "execution_count": 91,
   "metadata": {},
   "outputs": [
    {
     "data": {
      "text/plain": [
       "Text(0, 0.5, 'Percentage of CpGs')"
      ]
     },
     "execution_count": 91,
     "metadata": {},
     "output_type": "execute_result"
    },
    {
     "data": {
      "image/png": "[encoded data removed]",
      "text/plain": [
       "<Figure size 432x288 with 1 Axes>"
      ]
     },
     "metadata": {
      "needs_background": "light"
     },
     "output_type": "display_data"
    }
   ],
   "source": [
    "fibc=(pd.DataFrame([epic.enh.value_counts()/len(epic),dg.enh.value_counts()/len(dg)])).T\n",
    "fibc.columns=['All CpGs','DMCpGs']\n",
    "fibc.index=['Not Enhancer', 'Enhancer']\n",
    "fibc.plot(kind='bar')\n",
    "plt.title('Fibroblast Enahancers', fontsize=16)\n",
    "plt.xlabel('CpG location', fontsize=14)\n",
    "plt.ylabel('Percentage of CpGs', fontsize=14)"
   ]
  },
  {
   "cell_type": "code",
   "execution_count": 92,
   "metadata": {},
   "outputs": [
    {
     "data": {
      "text/plain": [
       "False    0.680484\n",
       "True     0.319516\n",
       "Name: 450k_Enhancer, dtype: float64"
      ]
     },
     "execution_count": 92,
     "metadata": {},
     "output_type": "execute_result"
    }
   ],
   "source": [
    "dg['450k_Enhancer'].value_counts()/len(dg)"
   ]
  },
  {
   "cell_type": "code",
   "execution_count": 93,
   "metadata": {},
   "outputs": [],
   "source": [
    "dgc=dg[['450k_Enhancer','CHR']].groupby(['CHR','450k_Enhancer']).size().unstack()"
   ]
  },
  {
   "cell_type": "code",
   "execution_count": 94,
   "metadata": {},
   "outputs": [
    {
     "data": {
      "text/plain": [
       "22.0"
      ]
     },
     "execution_count": 94,
     "metadata": {},
     "output_type": "execute_result"
    }
   ],
   "source": [
    "dg.loc['cg27421918'].ch"
   ]
  },
  {
   "cell_type": "code",
   "execution_count": 95,
   "metadata": {},
   "outputs": [
    {
     "data": {
      "text/plain": [
       "cg04317756   -0.310798\n",
       "cg05843420   -0.358778\n",
       "cg12510044   -0.344854\n",
       "cg15999544   -0.383437\n",
       "cg19803200   -0.345057\n",
       "cg20520743   -0.407499\n",
       "cg27377225   -0.420757\n",
       "cg27421918   -0.349555\n",
       "Name: skin_dif, dtype: float64"
      ]
     },
     "execution_count": 95,
     "metadata": {},
     "output_type": "execute_result"
    }
   ],
   "source": [
    "dg[dg.ch==22].skin_dif"
   ]
  },
  {
   "cell_type": "code",
   "execution_count": 96,
   "metadata": {},
   "outputs": [],
   "source": [
    "horv=pd.read_csv(data+'horvath.csv',index_col=0,skiprows=2)\n",
    "horv=horv.merge(df[['skin_dif','vein_dif']],left_index=True,right_index=True)\n",
    "horv['skin_effect']=(horv.CoefficientTraining*horv.skin_dif)*21\n",
    "horv['vein_effect']=(horv.CoefficientTraining*horv.vein_dif)*21"
   ]
  },
  {
   "cell_type": "code",
   "execution_count": 97,
   "metadata": {},
   "outputs": [
    {
     "name": "stderr",
     "output_type": "stream",
     "text": [
      "/Users/mahdimoqri/miniconda3/lib/python3.7/site-packages/seaborn/_decorators.py:43: FutureWarning: Pass the following variables as keyword args: x, y. From version 0.12, the only valid positional argument will be `data`, and passing other arguments without an explicit keyword will result in an error or misinterpretation.\n",
      "  FutureWarning\n"
     ]
    },
    {
     "data": {
      "text/plain": [
       "Text(0, 0.5, 'Years')"
      ]
     },
     "execution_count": 97,
     "metadata": {},
     "output_type": "execute_result"
    },
    {
     "data": {
      "image/png": "[encoded data removed]",
      "text/plain": [
       "<Figure size 432x288 with 1 Axes>"
      ]
     },
     "metadata": {
      "needs_background": "light"
     },
     "output_type": "display_data"
    }
   ],
   "source": [
    "skin=pd.concat([horv.skin_effect.sort_values()[:5],horv.skin_effect.sort_values()[-5:]])\n",
    "sns.barplot(skin.index,skin.values,palette=(\"coolwarm\"))\n",
    "plt.xticks(rotation=90);\n",
    "plt.ylabel('Years', fontsize=14)"
   ]
  },
  {
   "cell_type": "code",
   "execution_count": 98,
   "metadata": {},
   "outputs": [
    {
     "name": "stderr",
     "output_type": "stream",
     "text": [
      "/Users/mahdimoqri/miniconda3/lib/python3.7/site-packages/seaborn/_decorators.py:43: FutureWarning: Pass the following variables as keyword args: x, y. From version 0.12, the only valid positional argument will be `data`, and passing other arguments without an explicit keyword will result in an error or misinterpretation.\n",
      "  FutureWarning\n"
     ]
    },
    {
     "data": {
      "text/plain": [
       "Text(0, 0.5, 'Years')"
      ]
     },
     "execution_count": 98,
     "metadata": {},
     "output_type": "execute_result"
    },
    {
     "data": {
      "image/png": "[encoded data removed]",
      "text/plain": [
       "<Figure size 432x288 with 1 Axes>"
      ]
     },
     "metadata": {
      "needs_background": "light"
     },
     "output_type": "display_data"
    }
   ],
   "source": [
    "vein=pd.concat([horv.vein_effect.sort_values()[:5],horv.vein_effect.sort_values()[-5:]])\n",
    "sns.barplot(vein.index,vein.values,palette=(\"coolwarm\"))\n",
    "plt.xticks(rotation=90);\n",
    "plt.ylabel('Years', fontsize=14)"
   ]
  },
  {
   "cell_type": "code",
   "execution_count": 99,
   "metadata": {},
   "outputs": [
    {
     "data": {
      "text/html": [
       "<div>\n",
       "<style scoped>\n",
       "    .dataframe tbody tr th:only-of-type {\n",
       "        vertical-align: middle;\n",
       "    }\n",
       "\n",
       "    .dataframe tbody tr th {\n",
       "        vertical-align: top;\n",
       "    }\n",
       "\n",
       "    .dataframe thead th {\n",
       "        text-align: right;\n",
       "    }\n",
       "</style>\n",
       "<table border=\"1\" class=\"dataframe\">\n",
       "  <thead>\n",
       "    <tr style=\"text-align: right;\">\n",
       "      <th></th>\n",
       "      <th>skin_dif</th>\n",
       "      <th>vein_dif</th>\n",
       "    </tr>\n",
       "  </thead>\n",
       "  <tbody>\n",
       "    <tr>\n",
       "      <th>cg06144905</th>\n",
       "      <td>-0.149459</td>\n",
       "      <td>-0.358302</td>\n",
       "    </tr>\n",
       "    <tr>\n",
       "      <th>cg02463253</th>\n",
       "      <td>-0.032011</td>\n",
       "      <td>-0.012339</td>\n",
       "    </tr>\n",
       "    <tr>\n",
       "      <th>cg00016913</th>\n",
       "      <td>-0.178758</td>\n",
       "      <td>-0.057542</td>\n",
       "    </tr>\n",
       "    <tr>\n",
       "      <th>cg22968401</th>\n",
       "      <td>-0.134953</td>\n",
       "      <td>-0.014891</td>\n",
       "    </tr>\n",
       "    <tr>\n",
       "      <th>cg17751776</th>\n",
       "      <td>-0.016066</td>\n",
       "      <td>-0.002674</td>\n",
       "    </tr>\n",
       "  </tbody>\n",
       "</table>\n",
       "</div>"
      ],
      "text/plain": [
       "            skin_dif  vein_dif\n",
       "cg06144905 -0.149459 -0.358302\n",
       "cg02463253 -0.032011 -0.012339\n",
       "cg00016913 -0.178758 -0.057542\n",
       "cg22968401 -0.134953 -0.014891\n",
       "cg17751776 -0.016066 -0.002674"
      ]
     },
     "execution_count": 99,
     "metadata": {},
     "output_type": "execute_result"
    }
   ],
   "source": [
    "topcg=df.loc[horv.sort_values('vein_effect').index[0]][['CHR','MAPINFO']]\n",
    "topcg=df[(df.CHR=='17')&(df.MAPINFO>=topcg.MAPINFO)&(df.MAPINFO<topcg.MAPINFO+400)].sort_values(\"MAPINFO\")[['skin_dif','vein_dif']]\n",
    "topcg"
   ]
  },
  {
   "cell_type": "code",
   "execution_count": 100,
   "metadata": {},
   "outputs": [
    {
     "data": {
      "text/plain": [
       "Text(0, 0.5, 'Methylation')"
      ]
     },
     "execution_count": 100,
     "metadata": {},
     "output_type": "execute_result"
    },
    {
     "data": {
      "image/png": "[encoded data removed]",
      "text/plain": [
       "<Figure size 720x360 with 1 Axes>"
      ]
     },
     "metadata": {
      "needs_background": "light"
     },
     "output_type": "display_data"
    }
   ],
   "source": [
    "PIPOX=df.loc[topcg.index].T.merge(meta[meta.cell=='skin'][['treatment']],left_index=True,right_index=True)\n",
    "PIPOX.columns=['mapinfo_'+ str(b) for b in df.loc[topcg.index].MAPINFO.astype(int).values]+['treatment']\n",
    "PIPOX['person']=['person 1','person 1','person 2','person 2','person 3','person 3','person 4','person 4']\n",
    "PIPOX['id']=PIPOX.reset_index().index\n",
    "p=pd.wide_to_long(PIPOX,'mapinfo_','id','i')\n",
    "p['CpG']=p.index.get_level_values(1)\n",
    "p['cg']=p['mapinfo_'].astype(float)\n",
    "fig, ax = plt.subplots(figsize=(10,5))\n",
    "sns.lineplot(data=p,x='CpG',y='cg',style='person',hue='treatment')\n",
    "plt.xlabel('CpG location (Chr 17)', fontsize=14)\n",
    "plt.ylabel('Methylation', fontsize=14)\n"
   ]
  },
  {
   "cell_type": "code",
   "execution_count": 101,
   "metadata": {},
   "outputs": [
    {
     "data": {
      "text/plain": [
       "Text(0, 0.5, 'Methylation')"
      ]
     },
     "execution_count": 101,
     "metadata": {},
     "output_type": "execute_result"
    },
    {
     "data": {
      "image/png": "[encoded data removed]",
      "text/plain": [
       "<Figure size 720x360 with 1 Axes>"
      ]
     },
     "metadata": {
      "needs_background": "light"
     },
     "output_type": "display_data"
    }
   ],
   "source": [
    "PIPOX=df.loc[topcg.index].T.merge(meta[meta.cell=='vein'][['treatment']],left_index=True,right_index=True)\n",
    "PIPOX.columns=['mapinfo_'+ str(b) for b in df.loc[topcg.index].MAPINFO.astype(int).values]+['treatment']\n",
    "PIPOX['person']=['person 1','person 1','person 2','person 2','person 3','person 3','person 4','person 4']\n",
    "PIPOX['id']=PIPOX.reset_index().index\n",
    "p=pd.wide_to_long(PIPOX,'mapinfo_','id','i')\n",
    "p['CpG']=p.index.get_level_values(1)\n",
    "p['cg']=p['mapinfo_'].astype(float)\n",
    "fig, ax = plt.subplots(figsize=(10,5))\n",
    "sns.lineplot(data=p,x='CpG',y='cg',style='person',hue='treatment')\n",
    "plt.xlabel('CpG location (Chr 17)', fontsize=14)\n",
    "plt.ylabel('Methylation', fontsize=14)"
   ]
  },
  {
   "cell_type": "code",
   "execution_count": 36,
   "metadata": {},
   "outputs": [
    {
     "name": "stderr",
     "output_type": "stream",
     "text": [
      "/Users/mahdimoqri/miniconda3/lib/python3.7/site-packages/openpyxl/worksheet/_reader.py:308: UserWarning: Unknown extension is not supported and will be removed\n",
      "  warn(msg)\n"
     ]
    }
   ],
   "source": [
    "fiba=pd.read_excel(fib_age,index_col=0).drop('Gene Name').iloc[:,0:2]\n",
    "fibt=pd.read_excel(fib_treat,index_col=0).drop('Gene Name').iloc[:,0:2]\n",
    "fibt.index=fibt.index.str.strip()\n",
    "fibt.columns=['n','t']"
   ]
  },
  {
   "cell_type": "code",
   "execution_count": 37,
   "metadata": {},
   "outputs": [],
   "source": [
    "genes=pd.read_csv(data+'genes.txt',index_col=1)"
   ]
  },
  {
   "cell_type": "code",
   "execution_count": 38,
   "metadata": {},
   "outputs": [],
   "source": [
    "genes=genes.merge(fibt,left_index=True,right_index=True)\n",
    "for gene in ['GSM4227385','GSM4227387','GSM4227389','GSM4227391']:\n",
    "    genes[gene]=genes.n\n",
    "for gene in ['GSM4227386','GSM4227388','GSM4227390','GSM4227392']:\n",
    "    genes[gene]=genes['t']\n",
    "genes.index=genes['Gene stable ID']\n",
    "genes=genes.drop(['Gene stable ID','n','t'],1)"
   ]
  },
  {
   "cell_type": "code",
   "execution_count": 39,
   "metadata": {},
   "outputs": [],
   "source": [
    "genes.drop_duplicates().round(2).to_csv(data+'exp.csv')"
   ]
  },
  {
   "cell_type": "code",
   "execution_count": 40,
   "metadata": {},
   "outputs": [],
   "source": [
    "fiba.columns=['a','ap']\n",
    "fibt.columns=['t','tp']\n",
    "fiba.index=fiba.index.str.strip()\n",
    "fibt.index=fibt.index.str.strip()"
   ]
  },
  {
   "cell_type": "code",
   "execution_count": 41,
   "metadata": {},
   "outputs": [
    {
     "data": {
      "text/plain": [
       "<AxesSubplot:xlabel='a', ylabel='t'>"
      ]
     },
     "execution_count": 41,
     "metadata": {},
     "output_type": "execute_result"
    },
    {
     "data": {
      "image/png": "[encoded data removed]",
      "text/plain": [
       "<Figure size 432x288 with 1 Axes>"
      ]
     },
     "metadata": {
      "needs_background": "light"
     },
     "output_type": "display_data"
    }
   ],
   "source": [
    "fib=fiba.merge(fibt,left_index=True,right_index=True)\n",
    "fib.plot.scatter('a','t',s=1)"
   ]
  },
  {
   "cell_type": "code",
   "execution_count": 34,
   "metadata": {},
   "outputs": [
    {
     "data": {
      "text/plain": [
       "'PIPOX'"
      ]
     },
     "execution_count": 34,
     "metadata": {},
     "output_type": "execute_result"
    }
   ],
   "source": [
    "gene=df.loc['cg06144905','UCSC_RefGene_Name']\n",
    "gene"
   ]
  },
  {
   "cell_type": "code",
   "execution_count": 72,
   "metadata": {},
   "outputs": [
    {
     "data": {
      "text/html": [
       "<div>\n",
       "<style scoped>\n",
       "    .dataframe tbody tr th:only-of-type {\n",
       "        vertical-align: middle;\n",
       "    }\n",
       "\n",
       "    .dataframe tbody tr th {\n",
       "        vertical-align: top;\n",
       "    }\n",
       "\n",
       "    .dataframe thead th {\n",
       "        text-align: right;\n",
       "    }\n",
       "</style>\n",
       "<table border=\"1\" class=\"dataframe\">\n",
       "  <thead>\n",
       "    <tr style=\"text-align: right;\">\n",
       "      <th></th>\n",
       "      <th>t</th>\n",
       "      <th>tp</th>\n",
       "    </tr>\n",
       "    <tr>\n",
       "      <th>Treated vs Aged Gene Signature in Fibroblasts</th>\n",
       "      <th></th>\n",
       "      <th></th>\n",
       "    </tr>\n",
       "  </thead>\n",
       "  <tbody>\n",
       "    <tr>\n",
       "      <th>RAB13</th>\n",
       "      <td>3.547830</td>\n",
       "      <td>0.019634</td>\n",
       "    </tr>\n",
       "    <tr>\n",
       "      <th>DPYSL3</th>\n",
       "      <td>3.551120</td>\n",
       "      <td>0.024221</td>\n",
       "    </tr>\n",
       "    <tr>\n",
       "      <th>TTC3P1</th>\n",
       "      <td>3.602380</td>\n",
       "      <td>0.000946</td>\n",
       "    </tr>\n",
       "    <tr>\n",
       "      <th>FRMD6</th>\n",
       "      <td>3.617459</td>\n",
       "      <td>0.001511</td>\n",
       "    </tr>\n",
       "    <tr>\n",
       "      <th>HIST1H2BK</th>\n",
       "      <td>3.788538</td>\n",
       "      <td>0.013145</td>\n",
       "    </tr>\n",
       "    <tr>\n",
       "      <th>CD55</th>\n",
       "      <td>3.796189</td>\n",
       "      <td>0.036328</td>\n",
       "    </tr>\n",
       "    <tr>\n",
       "      <th>SNHG6</th>\n",
       "      <td>3.798748</td>\n",
       "      <td>0.013995</td>\n",
       "    </tr>\n",
       "    <tr>\n",
       "      <th>HIST1H1C</th>\n",
       "      <td>3.836446</td>\n",
       "      <td>0.028709</td>\n",
       "    </tr>\n",
       "    <tr>\n",
       "      <th>CTHRC1</th>\n",
       "      <td>3.885259</td>\n",
       "      <td>0.036153</td>\n",
       "    </tr>\n",
       "    <tr>\n",
       "      <th>EIF5B</th>\n",
       "      <td>3.901990</td>\n",
       "      <td>0.039781</td>\n",
       "    </tr>\n",
       "    <tr>\n",
       "      <th>CLU</th>\n",
       "      <td>3.957408</td>\n",
       "      <td>0.003766</td>\n",
       "    </tr>\n",
       "    <tr>\n",
       "      <th>TP53I3</th>\n",
       "      <td>4.006401</td>\n",
       "      <td>0.016893</td>\n",
       "    </tr>\n",
       "    <tr>\n",
       "      <th>INHBA</th>\n",
       "      <td>4.079589</td>\n",
       "      <td>0.048339</td>\n",
       "    </tr>\n",
       "    <tr>\n",
       "      <th>DDIT3</th>\n",
       "      <td>4.300837</td>\n",
       "      <td>0.046268</td>\n",
       "    </tr>\n",
       "    <tr>\n",
       "      <th>POU5F1P4</th>\n",
       "      <td>10.499602</td>\n",
       "      <td>0.000000</td>\n",
       "    </tr>\n",
       "    <tr>\n",
       "      <th>NANOG</th>\n",
       "      <td>10.502937</td>\n",
       "      <td>0.003692</td>\n",
       "    </tr>\n",
       "    <tr>\n",
       "      <th>POU5F1P3</th>\n",
       "      <td>10.878482</td>\n",
       "      <td>0.001047</td>\n",
       "    </tr>\n",
       "    <tr>\n",
       "      <th>SOX2</th>\n",
       "      <td>11.184536</td>\n",
       "      <td>0.003094</td>\n",
       "    </tr>\n",
       "    <tr>\n",
       "      <th>LIN28A</th>\n",
       "      <td>11.296188</td>\n",
       "      <td>0.006818</td>\n",
       "    </tr>\n",
       "    <tr>\n",
       "      <th>POU5F1</th>\n",
       "      <td>12.223677</td>\n",
       "      <td>0.003275</td>\n",
       "    </tr>\n",
       "  </tbody>\n",
       "</table>\n",
       "</div>"
      ],
      "text/plain": [
       "                                                       t        tp\n",
       "Treated vs Aged Gene Signature in Fibroblasts                     \n",
       "RAB13                                           3.547830  0.019634\n",
       "DPYSL3                                          3.551120  0.024221\n",
       "TTC3P1                                          3.602380  0.000946\n",
       "FRMD6                                           3.617459  0.001511\n",
       "HIST1H2BK                                       3.788538  0.013145\n",
       "CD55                                            3.796189  0.036328\n",
       "SNHG6                                           3.798748  0.013995\n",
       "HIST1H1C                                        3.836446  0.028709\n",
       "CTHRC1                                          3.885259  0.036153\n",
       "EIF5B                                           3.901990  0.039781\n",
       "CLU                                             3.957408  0.003766\n",
       "TP53I3                                          4.006401  0.016893\n",
       "INHBA                                           4.079589  0.048339\n",
       "DDIT3                                           4.300837  0.046268\n",
       "POU5F1P4                                       10.499602  0.000000\n",
       "NANOG                                          10.502937  0.003692\n",
       "POU5F1P3                                       10.878482  0.001047\n",
       "SOX2                                           11.184536  0.003094\n",
       "LIN28A                                         11.296188  0.006818\n",
       "POU5F1                                         12.223677  0.003275"
      ]
     },
     "execution_count": 72,
     "metadata": {},
     "output_type": "execute_result"
    }
   ],
   "source": [
    "fibt.sort_values('t').tail(20)"
   ]
  },
  {
   "cell_type": "code",
   "execution_count": 57,
   "metadata": {},
   "outputs": [
    {
     "data": {
      "text/html": [
       "<div>\n",
       "<style scoped>\n",
       "    .dataframe tbody tr th:only-of-type {\n",
       "        vertical-align: middle;\n",
       "    }\n",
       "\n",
       "    .dataframe tbody tr th {\n",
       "        vertical-align: top;\n",
       "    }\n",
       "\n",
       "    .dataframe thead th {\n",
       "        text-align: right;\n",
       "    }\n",
       "</style>\n",
       "<table border=\"1\" class=\"dataframe\">\n",
       "  <thead>\n",
       "    <tr style=\"text-align: right;\">\n",
       "      <th></th>\n",
       "      <th>a</th>\n",
       "      <th>t</th>\n",
       "    </tr>\n",
       "  </thead>\n",
       "  <tbody>\n",
       "    <tr>\n",
       "      <th>RALGDS</th>\n",
       "      <td>1.465867</td>\n",
       "      <td>1.420238</td>\n",
       "    </tr>\n",
       "    <tr>\n",
       "      <th>ZNF771</th>\n",
       "      <td>1.467403</td>\n",
       "      <td>1.339228</td>\n",
       "    </tr>\n",
       "    <tr>\n",
       "      <th>C7orf55</th>\n",
       "      <td>1.477313</td>\n",
       "      <td>2.235251</td>\n",
       "    </tr>\n",
       "    <tr>\n",
       "      <th>ZFAND1</th>\n",
       "      <td>1.485859</td>\n",
       "      <td>2.018548</td>\n",
       "    </tr>\n",
       "    <tr>\n",
       "      <th>PABPC1L</th>\n",
       "      <td>1.501997</td>\n",
       "      <td>2.721705</td>\n",
       "    </tr>\n",
       "    <tr>\n",
       "      <th>TMA7</th>\n",
       "      <td>1.520852</td>\n",
       "      <td>2.238327</td>\n",
       "    </tr>\n",
       "    <tr>\n",
       "      <th>RBBP6</th>\n",
       "      <td>1.543401</td>\n",
       "      <td>1.483416</td>\n",
       "    </tr>\n",
       "    <tr>\n",
       "      <th>FAM126A</th>\n",
       "      <td>1.562336</td>\n",
       "      <td>3.112907</td>\n",
       "    </tr>\n",
       "    <tr>\n",
       "      <th>PCCB</th>\n",
       "      <td>1.564690</td>\n",
       "      <td>1.806259</td>\n",
       "    </tr>\n",
       "    <tr>\n",
       "      <th>SNORD2</th>\n",
       "      <td>1.581071</td>\n",
       "      <td>1.446196</td>\n",
       "    </tr>\n",
       "    <tr>\n",
       "      <th>RPL36A</th>\n",
       "      <td>1.585405</td>\n",
       "      <td>2.793329</td>\n",
       "    </tr>\n",
       "    <tr>\n",
       "      <th>ERMARD</th>\n",
       "      <td>1.599223</td>\n",
       "      <td>1.812786</td>\n",
       "    </tr>\n",
       "    <tr>\n",
       "      <th>ANAPC10</th>\n",
       "      <td>1.599810</td>\n",
       "      <td>1.708661</td>\n",
       "    </tr>\n",
       "    <tr>\n",
       "      <th>HNRNPH2</th>\n",
       "      <td>1.616136</td>\n",
       "      <td>3.304697</td>\n",
       "    </tr>\n",
       "    <tr>\n",
       "      <th>NDUFS3</th>\n",
       "      <td>1.617408</td>\n",
       "      <td>3.486815</td>\n",
       "    </tr>\n",
       "    <tr>\n",
       "      <th>ACSL3</th>\n",
       "      <td>1.619288</td>\n",
       "      <td>2.371802</td>\n",
       "    </tr>\n",
       "    <tr>\n",
       "      <th>ZCCHC8</th>\n",
       "      <td>1.633130</td>\n",
       "      <td>2.313894</td>\n",
       "    </tr>\n",
       "    <tr>\n",
       "      <th>ETAA1</th>\n",
       "      <td>1.649135</td>\n",
       "      <td>1.159562</td>\n",
       "    </tr>\n",
       "    <tr>\n",
       "      <th>PDCD2</th>\n",
       "      <td>1.651025</td>\n",
       "      <td>2.153406</td>\n",
       "    </tr>\n",
       "    <tr>\n",
       "      <th>WBP1L</th>\n",
       "      <td>1.655149</td>\n",
       "      <td>2.734420</td>\n",
       "    </tr>\n",
       "    <tr>\n",
       "      <th>SCPEP1</th>\n",
       "      <td>1.658040</td>\n",
       "      <td>2.672697</td>\n",
       "    </tr>\n",
       "    <tr>\n",
       "      <th>HDHD3</th>\n",
       "      <td>1.667242</td>\n",
       "      <td>0.837938</td>\n",
       "    </tr>\n",
       "    <tr>\n",
       "      <th>RCCD1</th>\n",
       "      <td>1.689764</td>\n",
       "      <td>1.167478</td>\n",
       "    </tr>\n",
       "    <tr>\n",
       "      <th>RSRC2</th>\n",
       "      <td>1.702032</td>\n",
       "      <td>2.785924</td>\n",
       "    </tr>\n",
       "    <tr>\n",
       "      <th>SV2A</th>\n",
       "      <td>1.702385</td>\n",
       "      <td>1.123233</td>\n",
       "    </tr>\n",
       "    <tr>\n",
       "      <th>SLX1A-SULT1A3</th>\n",
       "      <td>1.711518</td>\n",
       "      <td>1.902697</td>\n",
       "    </tr>\n",
       "    <tr>\n",
       "      <th>GTF2I</th>\n",
       "      <td>1.717489</td>\n",
       "      <td>1.552672</td>\n",
       "    </tr>\n",
       "    <tr>\n",
       "      <th>MCCC1</th>\n",
       "      <td>1.728862</td>\n",
       "      <td>1.536159</td>\n",
       "    </tr>\n",
       "    <tr>\n",
       "      <th>FNTB</th>\n",
       "      <td>1.745954</td>\n",
       "      <td>2.199914</td>\n",
       "    </tr>\n",
       "    <tr>\n",
       "      <th>ARHGAP11B</th>\n",
       "      <td>1.761800</td>\n",
       "      <td>1.204767</td>\n",
       "    </tr>\n",
       "    <tr>\n",
       "      <th>TXNL4B</th>\n",
       "      <td>1.808473</td>\n",
       "      <td>1.811984</td>\n",
       "    </tr>\n",
       "    <tr>\n",
       "      <th>SNORA40</th>\n",
       "      <td>1.828942</td>\n",
       "      <td>2.054522</td>\n",
       "    </tr>\n",
       "    <tr>\n",
       "      <th>SNORD104</th>\n",
       "      <td>1.848665</td>\n",
       "      <td>2.007280</td>\n",
       "    </tr>\n",
       "    <tr>\n",
       "      <th>C6orf203</th>\n",
       "      <td>1.849607</td>\n",
       "      <td>2.995605</td>\n",
       "    </tr>\n",
       "    <tr>\n",
       "      <th>FBXL8</th>\n",
       "      <td>1.878777</td>\n",
       "      <td>1.724028</td>\n",
       "    </tr>\n",
       "    <tr>\n",
       "      <th>HMGN3-AS1</th>\n",
       "      <td>1.888519</td>\n",
       "      <td>2.507189</td>\n",
       "    </tr>\n",
       "    <tr>\n",
       "      <th>HSPE1</th>\n",
       "      <td>1.916658</td>\n",
       "      <td>3.452037</td>\n",
       "    </tr>\n",
       "    <tr>\n",
       "      <th>CEP57</th>\n",
       "      <td>1.927464</td>\n",
       "      <td>2.074836</td>\n",
       "    </tr>\n",
       "    <tr>\n",
       "      <th>TMEM218</th>\n",
       "      <td>1.949891</td>\n",
       "      <td>2.408599</td>\n",
       "    </tr>\n",
       "    <tr>\n",
       "      <th>FAM111A</th>\n",
       "      <td>1.963053</td>\n",
       "      <td>1.467888</td>\n",
       "    </tr>\n",
       "    <tr>\n",
       "      <th>SNORA63</th>\n",
       "      <td>1.966107</td>\n",
       "      <td>1.789672</td>\n",
       "    </tr>\n",
       "    <tr>\n",
       "      <th>THYN1</th>\n",
       "      <td>1.967020</td>\n",
       "      <td>1.864443</td>\n",
       "    </tr>\n",
       "    <tr>\n",
       "      <th>S100A13</th>\n",
       "      <td>1.994041</td>\n",
       "      <td>1.880632</td>\n",
       "    </tr>\n",
       "    <tr>\n",
       "      <th>MDP1</th>\n",
       "      <td>2.008826</td>\n",
       "      <td>2.029277</td>\n",
       "    </tr>\n",
       "    <tr>\n",
       "      <th>CENPH</th>\n",
       "      <td>2.052005</td>\n",
       "      <td>1.202632</td>\n",
       "    </tr>\n",
       "    <tr>\n",
       "      <th>C11orf74</th>\n",
       "      <td>2.097932</td>\n",
       "      <td>2.422781</td>\n",
       "    </tr>\n",
       "    <tr>\n",
       "      <th>ICA1L</th>\n",
       "      <td>2.251446</td>\n",
       "      <td>2.690601</td>\n",
       "    </tr>\n",
       "    <tr>\n",
       "      <th>SNORD10</th>\n",
       "      <td>2.355204</td>\n",
       "      <td>2.457668</td>\n",
       "    </tr>\n",
       "    <tr>\n",
       "      <th>CENPV</th>\n",
       "      <td>2.455784</td>\n",
       "      <td>1.807138</td>\n",
       "    </tr>\n",
       "    <tr>\n",
       "      <th>CCDC28B</th>\n",
       "      <td>2.502193</td>\n",
       "      <td>2.320528</td>\n",
       "    </tr>\n",
       "  </tbody>\n",
       "</table>\n",
       "</div>"
      ],
      "text/plain": [
       "                      a         t\n",
       "RALGDS         1.465867  1.420238\n",
       "ZNF771         1.467403  1.339228\n",
       "C7orf55        1.477313  2.235251\n",
       "ZFAND1         1.485859  2.018548\n",
       "PABPC1L        1.501997  2.721705\n",
       "TMA7           1.520852  2.238327\n",
       "RBBP6          1.543401  1.483416\n",
       "FAM126A        1.562336  3.112907\n",
       "PCCB           1.564690  1.806259\n",
       "SNORD2         1.581071  1.446196\n",
       "RPL36A         1.585405  2.793329\n",
       "ERMARD         1.599223  1.812786\n",
       "ANAPC10        1.599810  1.708661\n",
       "HNRNPH2        1.616136  3.304697\n",
       "NDUFS3         1.617408  3.486815\n",
       "ACSL3          1.619288  2.371802\n",
       "ZCCHC8         1.633130  2.313894\n",
       "ETAA1          1.649135  1.159562\n",
       "PDCD2          1.651025  2.153406\n",
       "WBP1L          1.655149  2.734420\n",
       "SCPEP1         1.658040  2.672697\n",
       "HDHD3          1.667242  0.837938\n",
       "RCCD1          1.689764  1.167478\n",
       "RSRC2          1.702032  2.785924\n",
       "SV2A           1.702385  1.123233\n",
       "SLX1A-SULT1A3  1.711518  1.902697\n",
       "GTF2I          1.717489  1.552672\n",
       "MCCC1          1.728862  1.536159\n",
       "FNTB           1.745954  2.199914\n",
       "ARHGAP11B      1.761800  1.204767\n",
       "TXNL4B         1.808473  1.811984\n",
       "SNORA40        1.828942  2.054522\n",
       "SNORD104       1.848665  2.007280\n",
       "C6orf203       1.849607  2.995605\n",
       "FBXL8          1.878777  1.724028\n",
       "HMGN3-AS1      1.888519  2.507189\n",
       "HSPE1          1.916658  3.452037\n",
       "CEP57          1.927464  2.074836\n",
       "TMEM218        1.949891  2.408599\n",
       "FAM111A        1.963053  1.467888\n",
       "SNORA63        1.966107  1.789672\n",
       "THYN1          1.967020  1.864443\n",
       "S100A13        1.994041  1.880632\n",
       "MDP1           2.008826  2.029277\n",
       "CENPH          2.052005  1.202632\n",
       "C11orf74       2.097932  2.422781\n",
       "ICA1L          2.251446  2.690601\n",
       "SNORD10        2.355204  2.457668\n",
       "CENPV          2.455784  1.807138\n",
       "CCDC28B        2.502193  2.320528"
      ]
     },
     "execution_count": 57,
     "metadata": {},
     "output_type": "execute_result"
    }
   ],
   "source": [
    "fib.sort_values('a').tail(50)[['a','t']]"
   ]
  },
  {
   "cell_type": "code",
   "execution_count": 42,
   "metadata": {},
   "outputs": [
    {
     "data": {
      "text/plain": [
       "(7404, 76)"
      ]
     },
     "execution_count": 42,
     "metadata": {},
     "output_type": "execute_result"
    }
   ],
   "source": [
    "dg.shape"
   ]
  },
  {
   "cell_type": "code",
   "execution_count": 37,
   "metadata": {},
   "outputs": [],
   "source": [
    "tss=pd.read_csv(data+'tss38.gz',sep='\\t',index_col=0)\n",
    "tss=tss.drop_duplicates()\n",
    "tss.index=tss['name2']"
   ]
  },
  {
   "cell_type": "code",
   "execution_count": 38,
   "metadata": {},
   "outputs": [],
   "source": [
    "fibtg=fibt.merge(tss,left_index=True,right_index=True)"
   ]
  },
  {
   "cell_type": "code",
   "execution_count": 39,
   "metadata": {},
   "outputs": [],
   "source": [
    "fibtg['l']=(fibtg.txEnd-fibtg.txStart)\n",
    "fibtg['ch']=fibtg.chrom.str.strip('chr')\n",
    "fibtg['ch']=pd.to_numeric(fibtg.ch,errors='coerce')\n",
    "fibtg=fibtg.dropna()"
   ]
  },
  {
   "cell_type": "code",
   "execution_count": 40,
   "metadata": {},
   "outputs": [],
   "source": [
    "fibtg['gs']=(fibtg.ch*10**9+fibtg.txStart).astype(int)\n",
    "fibtg['ge']=(fibtg.ch*10**9+fibtg.txEnd).astype(int)"
   ]
  },
  {
   "cell_type": "code",
   "execution_count": 41,
   "metadata": {},
   "outputs": [],
   "source": [
    "fibtg=fibtg[fibtg.l<10**6]"
   ]
  },
  {
   "cell_type": "code",
   "execution_count": 42,
   "metadata": {},
   "outputs": [
    {
     "ename": "KeyboardInterrupt",
     "evalue": "",
     "output_type": "error",
     "traceback": [
      "\u001b[0;31m---------------------------------------------------------------------------\u001b[0m",
      "\u001b[0;31mKeyboardInterrupt\u001b[0m                         Traceback (most recent call last)",
      "\u001b[0;32m<ipython-input-42-69da3ae16275>\u001b[0m in \u001b[0;36m<module>\u001b[0;34m\u001b[0m\n\u001b[0;32m----> 1\u001b[0;31m \u001b[0ma\u001b[0m\u001b[0;34m=\u001b[0m\u001b[0;34m[\u001b[0m\u001b[0;34m]\u001b[0m\u001b[0;34m\u001b[0m\u001b[0;34m\u001b[0m\u001b[0m\n\u001b[0m\u001b[1;32m      2\u001b[0m \u001b[0;32mfor\u001b[0m \u001b[0mi\u001b[0m\u001b[0;34m,\u001b[0m\u001b[0mrow\u001b[0m \u001b[0;32min\u001b[0m \u001b[0mfibtg\u001b[0m\u001b[0;34m.\u001b[0m\u001b[0miterrows\u001b[0m\u001b[0;34m(\u001b[0m\u001b[0;34m)\u001b[0m\u001b[0;34m:\u001b[0m\u001b[0;34m\u001b[0m\u001b[0;34m\u001b[0m\u001b[0m\n\u001b[1;32m      3\u001b[0m     \u001b[0ma\u001b[0m\u001b[0;34m.\u001b[0m\u001b[0mappend\u001b[0m\u001b[0;34m(\u001b[0m\u001b[0mrange\u001b[0m\u001b[0;34m(\u001b[0m\u001b[0mrow\u001b[0m\u001b[0;34m[\u001b[0m\u001b[0;34m'gs'\u001b[0m\u001b[0;34m]\u001b[0m\u001b[0;34m,\u001b[0m\u001b[0mrow\u001b[0m\u001b[0;34m[\u001b[0m\u001b[0;34m'ge'\u001b[0m\u001b[0;34m]\u001b[0m\u001b[0;34m)\u001b[0m\u001b[0;34m)\u001b[0m\u001b[0;34m\u001b[0m\u001b[0;34m\u001b[0m\u001b[0m\n",
      "\u001b[0;31mKeyboardInterrupt\u001b[0m: "
     ]
    }
   ],
   "source": [
    "a=[]\n",
    "for i,row in fibtg.iterrows():\n",
    "    a.append(range(row['gs'],row['ge']))"
   ]
  },
  {
   "cell_type": "code",
   "execution_count": null,
   "metadata": {},
   "outputs": [],
   "source": [
    "a=set().union(*a)"
   ]
  },
  {
   "cell_type": "code",
   "execution_count": null,
   "metadata": {},
   "outputs": [],
   "source": [
    "len(a)"
   ]
  },
  {
   "cell_type": "code",
   "execution_count": null,
   "metadata": {},
   "outputs": [],
   "source": [
    "dg['ch']=dg.CHR_hg38.str.strip('chr')\n",
    "dg['ch']=pd.to_numeric(dg.ch,errors='coerce')\n",
    "dg['g']=dg.ch*10**9+dg.Start_hg38"
   ]
  },
  {
   "cell_type": "code",
   "execution_count": null,
   "metadata": {},
   "outputs": [],
   "source": [
    "dg['i']=dg.g.apply(lambda x:x in a)"
   ]
  },
  {
   "cell_type": "code",
   "execution_count": null,
   "metadata": {},
   "outputs": [],
   "source": [
    "dg[(dg.i)&(dg['450k_Enhancer'])]"
   ]
  },
  {
   "cell_type": "code",
   "execution_count": null,
   "metadata": {},
   "outputs": [],
   "source": [
    "dg.shape"
   ]
  }
 ],
 "metadata": {
  "kernelspec": {
   "display_name": "Python 3",
   "language": "python",
   "name": "python3"
  },
  "language_info": {
   "codemirror_mode": {
    "name": "ipython",
    "version": 3
   },
   "file_extension": ".py",
   "mimetype": "text/x-python",
   "name": "python",
   "nbconvert_exporter": "python",
   "pygments_lexer": "ipython3",
   "version": "3.7.7"
  }
 },
 "nbformat": 4,
 "nbformat_minor": 4
}
